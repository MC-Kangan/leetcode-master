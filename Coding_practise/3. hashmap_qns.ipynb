{
 "cells": [
  {
   "cell_type": "markdown",
   "id": "427a80c6",
   "metadata": {},
   "source": [
    "### Challenging questions:\n",
    "- Round 1：1002, 202, 15\n",
    "\n",
    "什么时候使用哈希法：当我们需要查询一个元素是否出现过，或者一个元素是否在集合里的时候，就要第一时间想到哈希法"
   ]
  },
  {
   "cell_type": "code",
   "execution_count": 57,
   "id": "2c40eb92",
   "metadata": {},
   "outputs": [
    {
     "name": "stdout",
     "output_type": "stream",
     "text": [
      "1.{'a': 0, 'b': 0, 'c': 0, 'd': 0, 'e': 0, 'f': 0, 'g': 0, 'h': 0, 'i': 0, 'j': 0, 'k': 0, 'l': 0, 'm': 0, 'n': 0, 'o': 0, 'p': 0, 'q': 0, 'r': 0, 's': 0, 't': 0, 'u': 0, 'v': 0, 'w': 0, 'x': 0, 'y': 0, 'z': 0}\n",
      "\n",
      "2.97\n",
      "\n",
      "3.Enumerate\n",
      "0 b\n",
      "1 e\n",
      "2 l\n",
      "3 l\n",
      "4 a\n",
      "\n",
      "4.a\n"
     ]
    }
   ],
   "source": [
    "# Knonwledge point\n",
    "\n",
    "# 1. string.ascii_lowercase\n",
    "import string\n",
    "letter_count = dict(zip(string.ascii_lowercase, [0]*26))\n",
    "print(f'1.{letter_count}')\n",
    "print()\n",
    "\n",
    "# 2. ord()\n",
    "A = ord('a')\n",
    "print(f'2.{A}')\n",
    "print()\n",
    "\n",
    "# 3. enumerate\n",
    "words = ['bella', 'michael']\n",
    "print(f'3.Enumerate')\n",
    "# Enumerate: i is the index, c is the letter \n",
    "for i, c in enumerate(words[0]):\n",
    "    print(i,c)\n",
    "print()\n",
    "\n",
    "# 4. chr(): return characters, note: a is not 1\n",
    "print(f'4.{chr(97)}')\n"
   ]
  },
  {
   "cell_type": "markdown",
   "id": "89d21571",
   "metadata": {},
   "source": [
    "### 242.有效的字母异位词\n",
    "\n",
    "给定两个字符串 s 和 t ，编写一个函数来判断 t 是否是 s 的字母异位词。\n",
    "\n",
    "示例 1: 输入: s = \"anagram\", t = \"nagaram\" 输出: true\n",
    "\n",
    "示例 2: 输入: s = \"rat\", t = \"car\" 输出: false\n",
    "\n",
    "说明: 你可以假设字符串只包含小写字母。\n",
    "\n"
   ]
  },
  {
   "cell_type": "code",
   "execution_count": 3,
   "id": "7caea2b7",
   "metadata": {},
   "outputs": [],
   "source": [
    "# Test case\n",
    "\n",
    "# s = \"anagram\"\n",
    "# t = \"nagaram\"\n",
    "s = \"rat\"\n",
    "t = \"car\""
   ]
  },
  {
   "cell_type": "code",
   "execution_count": null,
   "id": "c81d02e5",
   "metadata": {},
   "outputs": [],
   "source": [
    "# Create dictionary with letters as the key values\n",
    "import string\n",
    "letter_count = dict.fromkeys(string.ascii_lowercase, 0)\n",
    "# letter_count = dict(zip(string.ascii_lowercase, [0]*26))"
   ]
  },
  {
   "cell_type": "code",
   "execution_count": 5,
   "id": "5c61adf0",
   "metadata": {},
   "outputs": [
    {
     "data": {
      "text/plain": [
       "False"
      ]
     },
     "execution_count": 5,
     "metadata": {},
     "output_type": "execute_result"
    }
   ],
   "source": [
    "# My solution\n",
    "class Solution:\n",
    "    def isAnagram(self, s: str, t: str) -> bool:\n",
    "        letter_count_s = {}\n",
    "        letter_count_t = {}\n",
    "        for i in s:\n",
    "            if i in letter_count_s:\n",
    "                letter_count_s[i] += 1\n",
    "            else:\n",
    "                letter_count_s[i] = 1\n",
    "        \n",
    "        for i in t:\n",
    "            if i in letter_count_t:\n",
    "                letter_count_t[i] += 1\n",
    "            else:\n",
    "                letter_count_t[i] = 1\n",
    "                \n",
    "        return letter_count_t == letter_count_s\n",
    "    \n",
    "solution = Solution()\n",
    "solution.isAnagram(s,t)\n",
    "        "
   ]
  },
  {
   "cell_type": "code",
   "execution_count": 10,
   "id": "911e2420",
   "metadata": {},
   "outputs": [
    {
     "name": "stdout",
     "output_type": "stream",
     "text": [
      "97 122 25\n"
     ]
    }
   ],
   "source": [
    "# Sample solution\n",
    "\n",
    "# Note: Python ord() function returns the Unicode code from a given character. \n",
    "# This function accepts a string of unit length as an argument and returns the Unicode equivalence of the passed argument.\n",
    "print(ord('a'), ord('z'), ord('z')-ord('a'))\n",
    "\n",
    "# 用数组做哈希表\n",
    "class Solution:\n",
    "    def isAnagram(self, s: str, t: str) -> bool:\n",
    "        record = [0] * 26 # Create a list with length 26\n",
    "        for i in range(len(s)):\n",
    "            #并不需要记住字符a的ASCII，只要求出一个相对数值就可以了\n",
    "            record[ord(s[i]) - ord(\"a\")] += 1\n",
    "        print(record)\n",
    "        for i in range(len(t)):\n",
    "            record[ord(t[i]) - ord(\"a\")] -= 1\n",
    "        for i in range(26):\n",
    "            if record[i] != 0:\n",
    "                #record数组如果有的元素不为零0，说明字符串s和t 一定是谁多了字符或者谁少了字符。\n",
    "                return False\n",
    "        return True"
   ]
  },
  {
   "cell_type": "markdown",
   "id": "098c4f1b",
   "metadata": {},
   "source": [
    "### 1002. 查找常用字符\n",
    "\n",
    "给你一个字符串数组 words ，请你找出所有在 words 的每个字符串中都出现的共用字符（ 包括重复字符），并以数组形式返回。你可以按 任意顺序 返回答案。\n",
    "\n",
    "示例 1：\n",
    "\n",
    "输入：words = [\"bella\",\"label\",\"roller\"] 输出：[\"e\",\"l\",\"l\"] 示例 2：\n",
    "\n",
    "输入：words = [\"cool\",\"lock\",\"cook\"] 输出：[\"c\",\"o\"]\n",
    "\n",
    "提示：\n",
    "\n",
    "1 <= words.length <= 100 1 <= words[i].length <= 100 words[i] 由小写英文字母组成"
   ]
  },
  {
   "cell_type": "code",
   "execution_count": 28,
   "id": "375c69b5",
   "metadata": {},
   "outputs": [],
   "source": [
    "# Test case\n",
    "\n",
    "words = [\"bella\",\"label\",\"roller\"]\n",
    "# words = [\"cool\",\"lock\",\"cook\"]"
   ]
  },
  {
   "cell_type": "code",
   "execution_count": 29,
   "id": "59dba608",
   "metadata": {},
   "outputs": [
    {
     "data": {
      "text/plain": [
       "['l', 'e']"
      ]
     },
     "execution_count": 29,
     "metadata": {},
     "output_type": "execute_result"
    }
   ],
   "source": [
    "# My Solution (This is flawed as it deduplicate the repeated letter in one word)\n",
    "class Solution:\n",
    "    def CommonString(self, words):\n",
    "        record = [0]*26\n",
    "        \n",
    "        result = []\n",
    "        for i in words:\n",
    "            for j in set(i): #By using set, it removes the duplicated letter within a same word like 'bella', where 'l' appears twice\n",
    "                record[ord(j) - ord(\"a\")] += 1\n",
    "                if record[ord(j) - ord(\"a\")] == len(words):\n",
    "                    result.append(j)\n",
    "        return result\n",
    "\n",
    "solution = Solution()\n",
    "solution.CommonString(words)\n",
    "        "
   ]
  },
  {
   "cell_type": "code",
   "execution_count": 35,
   "id": "748b8492",
   "metadata": {},
   "outputs": [
    {
     "name": "stdout",
     "output_type": "stream",
     "text": [
      "[1, 1, 0, 0, 1, 0, 0, 0, 0, 0, 0, 2, 0, 0, 0, 0, 0, 0, 0, 0, 0, 0, 0, 0, 0, 0]\n",
      "[1, 1, 0, 0, 1, 0, 0, 0, 0, 0, 0, 2, 0, 0, 0, 0, 0, 0, 0, 0, 0, 0, 0, 0, 0, 0]\n",
      "[0, 0, 0, 0, 1, 0, 0, 0, 0, 0, 0, 2, 0, 0, 0, 0, 0, 0, 0, 0, 0, 0, 0, 0, 0, 0]\n"
     ]
    },
    {
     "data": {
      "text/plain": [
       "['e', 'l', 'l']"
      ]
     },
     "execution_count": 35,
     "metadata": {},
     "output_type": "execute_result"
    }
   ],
   "source": [
    "# Sample Solution\n",
    "class Solution:\n",
    "    def commonChars(self, words: list[str]) -> list[str]:\n",
    "        if not words: return []\n",
    "        result = []\n",
    "        hash = [0] * 26 # 用来统计所有字符串里字符出现的最小频率\n",
    "        for i, c in enumerate(words[0]):  # 用第一个字符串给hash初始化 (i is the index, c is the letter)\n",
    "            hash[ord(c) - ord('a')] += 1\n",
    "        print(hash)\n",
    "        # 统计除第一个字符串外字符的出现频率\n",
    "        for i in range(1, len(words)): # 除了第一个字符串外，每一个字符串都有一个全新的list，叫做hashOtherStr\n",
    "            hashOtherStr = [0] * 26\n",
    "            for j in range(len(words[i])):\n",
    "                hashOtherStr[ord(words[i][j]) - ord('a')] += 1\n",
    "                \n",
    "            # 更新hash，保证hash里统计26个字符在所有字符串里出现的最小次数\n",
    "            for k in range(26):\n",
    "                hash[k] = min(hash[k], hashOtherStr[k])\n",
    "            print(hash)\n",
    "            \n",
    "        # 将hash统计的字符次数，转成输出形式\n",
    "        for i in range(26):\n",
    "            while hash[i] != 0: # 注意这里是while，多个重复的字符\n",
    "                result.extend(chr(i + ord('a'))) # chr returns the characters\n",
    "                hash[i] -= 1\n",
    "        return result\n",
    "    \n",
    "solution = Solution()\n",
    "solution.commonChars(words)"
   ]
  },
  {
   "cell_type": "markdown",
   "id": "13042923",
   "metadata": {},
   "source": [
    "### 349. 两个数组的交集\n",
    "\n",
    "题意：给定两个数组，编写一个函数来计算它们的交集\n",
    "\n",
    "说明： 输出结果中的每个元素一定是唯一的。 我们可以不考虑输出结果的顺序。"
   ]
  },
  {
   "cell_type": "code",
   "execution_count": 59,
   "id": "cbe4f57a",
   "metadata": {},
   "outputs": [],
   "source": [
    "# Test case\n",
    "\n",
    "nums1 = [1,2,2,1]\n",
    "nums2 = [2,2]"
   ]
  },
  {
   "cell_type": "code",
   "execution_count": 66,
   "id": "44d820e7",
   "metadata": {},
   "outputs": [
    {
     "name": "stdout",
     "output_type": "stream",
     "text": [
      "[1, 2, 2]\n"
     ]
    },
    {
     "data": {
      "text/plain": [
       "[2]"
      ]
     },
     "execution_count": 66,
     "metadata": {},
     "output_type": "execute_result"
    }
   ],
   "source": [
    "# My solution\n",
    "class Solution():\n",
    "    def findIntersection(self, nums1, nums2):\n",
    "        # Join the set of num1 and set of nums2 to a list\n",
    "        nums1_2 = list(set(nums1))+list(set(nums2))\n",
    "        #print(nums1_2)\n",
    "\n",
    "        result = []\n",
    "        dict_count = {}\n",
    "        for i in nums1_2:\n",
    "            if i in dict_count:\n",
    "                dict_count[i] += 1\n",
    "                if dict_count[i] == 2:\n",
    "                    result.append(i)\n",
    "            else:\n",
    "                dict_count[i] = 1\n",
    "                \n",
    "        return result\n",
    "    \n",
    "solution = Solution()\n",
    "solution.findIntersection(nums1, nums2)"
   ]
  },
  {
   "cell_type": "code",
   "execution_count": 68,
   "id": "7b54f387",
   "metadata": {},
   "outputs": [
    {
     "data": {
      "text/plain": [
       "[2]"
      ]
     },
     "execution_count": 68,
     "metadata": {},
     "output_type": "execute_result"
    }
   ],
   "source": [
    "# Sample solution (Use set operations)\n",
    "class Solution:\n",
    "    def intersection(self, nums1: list[int], nums2: list[int]) -> list[int]:\n",
    "        return list(set(nums1) & set(nums2))    # 两个数组先变成集合，求交集后还原为数组\n",
    "\n",
    "solution = Solution()\n",
    "solution.intersection(nums1, nums2)"
   ]
  },
  {
   "cell_type": "markdown",
   "id": "b6135fe4",
   "metadata": {},
   "source": [
    "### 第202题. 快乐数\n",
    "\n",
    "编写一个算法来判断一个数 n 是不是快乐数。\n",
    "\n",
    "「快乐数」定义为：对于一个正整数，每一次将该数替换为它每个位置上的数字的平方和，然后重复这个过程直到这个数变为 1，也可能是 无限循环 但始终变不到 1。如果 可以变为  1，那么这个数就是快乐数。\n",
    "\n",
    "如果 n 是快乐数就返回 True ；不是，则返回 False 。"
   ]
  },
  {
   "cell_type": "code",
   "execution_count": null,
   "id": "461e8427",
   "metadata": {},
   "outputs": [],
   "source": [
    "# Sample Solution\n",
    "class Solution:\n",
    "    def isHappy(self, n: int) -> bool:\n",
    "        def calculate_happy(num):\n",
    "            sum_ = 0\n",
    "            \n",
    "            # 从个位开始依次取，平方求和\n",
    "            while num: # While num is non-zero\n",
    "                sum_ += (num % 10) ** 2 \n",
    "                num = num // 10 # this is floor division, division and round down\n",
    "            return sum_\n",
    "\n",
    "        # 记录中间结果\n",
    "        record = set()\n",
    "\n",
    "        while True:\n",
    "            n = calculate_happy(n)\n",
    "            if n == 1:\n",
    "                return True\n",
    "            \n",
    "            # 如果中间结果重复出现，说明陷入死循环了，该数不是快乐数\n",
    "            if n in record:\n",
    "                return False\n",
    "            else:\n",
    "                record.add(n)\n",
    "                            "
   ]
  },
  {
   "cell_type": "markdown",
   "id": "c3f3c20c",
   "metadata": {},
   "source": [
    "### 1. 两数之和\n",
    "\n",
    "给定一个整数数组 nums 和一个目标值 target，请你在该数组中找出和为目标值的那 两个 整数，并返回他们的数组下标。\n",
    "\n",
    "你可以假设每种输入只会对应一个答案。但是，数组中同一个元素不能使用两遍。\n",
    "\n",
    "示例:\n",
    "\n",
    "给定 nums = [2, 7, 11, 15], target = 9\n",
    "\n",
    "因为 nums[0] + nums[1] = 2 + 7 = 9\n",
    "\n",
    "所以返回 [0, 1]"
   ]
  },
  {
   "cell_type": "code",
   "execution_count": 120,
   "id": "b0771241",
   "metadata": {},
   "outputs": [],
   "source": [
    "# Test case\n",
    "nums = [2,7,11,15]\n",
    "target = 9\n",
    "#target = 4"
   ]
  },
  {
   "cell_type": "code",
   "execution_count": 115,
   "id": "4d80dff6",
   "metadata": {},
   "outputs": [
    {
     "data": {
      "text/plain": [
       "[0, 1]"
      ]
     },
     "execution_count": 115,
     "metadata": {},
     "output_type": "execute_result"
    }
   ],
   "source": [
    "# My solution is flawed (因为我没有满足数组中同一个元素不能使用两遍的要求)\n",
    "class Solution:\n",
    "    def twoSum(self, target: int, nums:list) -> list:\n",
    "        diff = [target - i for i in nums]\n",
    "        \n",
    "        result = []\n",
    "        for i in range(len(nums)):\n",
    "            if diff[i] in nums:\n",
    "                result.append(i)\n",
    "        \n",
    "        return result\n",
    "\n",
    "solution = Solution()\n",
    "solution.twoSum(target, nums)"
   ]
  },
  {
   "cell_type": "code",
   "execution_count": 121,
   "id": "06eda896",
   "metadata": {},
   "outputs": [
    {
     "data": {
      "text/plain": [
       "[1, 0]"
      ]
     },
     "execution_count": 121,
     "metadata": {},
     "output_type": "execute_result"
    }
   ],
   "source": [
    "# My solution.2 (This works)\n",
    "class Solution:\n",
    "    def twoSum(self, target: int, nums:list) -> list:\n",
    "        dict_ = {}\n",
    "        result = []\n",
    "        for i in range(len(nums)):\n",
    "            key = target - nums[i]\n",
    "            if nums[i] in dict_:\n",
    "                return [i, dict_[nums[i]]]\n",
    "            else:\n",
    "                dict_[key] = i\n",
    "                \n",
    "        return result\n",
    "                \n",
    "                \n",
    "\n",
    "solution = Solution()\n",
    "solution.twoSum(target, nums)"
   ]
  },
  {
   "cell_type": "code",
   "execution_count": null,
   "id": "adf0d74c",
   "metadata": {},
   "outputs": [],
   "source": [
    "# Sample solution\n",
    "class Solution:\n",
    "    def twoSum(self, nums: List[int], target: int) -> List[int]:\n",
    "        rec = {}\n",
    "        for i in range(len(nums)):\n",
    "            rest = target - nums[i]\n",
    "            # Use get to get the index of the data, making use of one of the dictionary properties.\n",
    "            if rec.get(rest, None) is not None: return [rec[rest], i]\n",
    "            rec[nums[i]] = i"
   ]
  },
  {
   "cell_type": "markdown",
   "id": "a4ae629a",
   "metadata": {},
   "source": [
    "### 第454题.四数相加II\n",
    "\n",
    "给定四个包含整数的数组列表 A , B , C , D ,计算有多少个元组 (i, j, k, l) ，使得 A[i] + B[j] + C[k] + D[l] = 0。\n",
    "\n",
    "为了使问题简单化，所有的 A, B, C, D 具有相同的长度 N，且 0 ≤ N ≤ 500 。所有整数的范围在 -2^28 到 2^28 - 1 之间，最终结果不会超过 2^31 - 1 。\n",
    "\n",
    "例如:\n",
    "\n",
    "输入:\n",
    "\n",
    "A = [ 1, 2]\n",
    "\n",
    "B = [-2,-1]\n",
    "\n",
    "C = [-1, 2]\n",
    "\n",
    "D = [ 0, 2]\n",
    "\n",
    "输出:\n",
    "\n",
    "2"
   ]
  },
  {
   "cell_type": "code",
   "execution_count": 123,
   "id": "26d89aad",
   "metadata": {},
   "outputs": [],
   "source": [
    "# Test case\n",
    "A = [1,2]\n",
    "B = [-2,-1]\n",
    "C = [-1,2]\n",
    "D = [0,2]"
   ]
  },
  {
   "cell_type": "code",
   "execution_count": 125,
   "id": "4348ee1c",
   "metadata": {},
   "outputs": [
    {
     "name": "stdout",
     "output_type": "stream",
     "text": [
      "{-1: 1, 0: 2, 1: 1}\n"
     ]
    },
    {
     "data": {
      "text/plain": [
       "2"
      ]
     },
     "execution_count": 125,
     "metadata": {},
     "output_type": "execute_result"
    }
   ],
   "source": [
    "class Solution(object):\n",
    "    def fourSumCount(self, nums1, nums2, nums3, nums4):\n",
    "        # use a dict to store the elements in nums1 and nums2 and their sum\n",
    "        hashmap = dict()\n",
    "        for n1 in nums1:\n",
    "            for n2 in nums2:\n",
    "                if n1 + n2 in hashmap:\n",
    "                    hashmap[n1+n2] += 1\n",
    "                else:\n",
    "                    hashmap[n1+n2] = 1\n",
    "        \n",
    "        # if the -(a+b) exists in nums3 and nums4, we shall add the count\n",
    "        count = 0\n",
    "        for n3 in nums3:\n",
    "            for n4 in nums4:\n",
    "                key = - n3 - n4 # n1+n2+n3+n4 = 0, thus n1+n2 = -n3-n4\n",
    "                if key in hashmap:\n",
    "                    count += hashmap[key]\n",
    "        print(hashmap)\n",
    "        return count\n",
    "    \n",
    "solution = Solution()\n",
    "solution.fourSumCount(A,B,C,D)\n",
    " "
   ]
  },
  {
   "cell_type": "markdown",
   "id": "17d12a73",
   "metadata": {},
   "source": [
    "### 383. 赎金信\n",
    "\n",
    "给定一个赎金信 (ransom) 字符串和一个杂志(magazine)字符串，判断第一个字符串 ransom 能不能由第二个字符串 magazines 里面的字符构成。如果可以构成，返回 true ；否则返回 false。\n",
    "\n",
    "(题目说明：为了不暴露赎金信字迹，要从杂志上搜索各个需要的字母，组成单词来表达意思。杂志字符串中的每个字符只能在赎金信字符串中使用一次。)\n",
    "\n",
    "注意：\n",
    "\n",
    "你可以假设两个字符串均只含有小写字母。\n",
    "\n",
    "canConstruct(\"a\", \"b\") -> false\n",
    "\n",
    "canConstruct(\"aa\", \"ab\") -> false\n",
    "\n",
    "canConstruct(\"aa\", \"aab\") -> true"
   ]
  },
  {
   "cell_type": "code",
   "execution_count": 129,
   "id": "619fa7e8",
   "metadata": {},
   "outputs": [
    {
     "name": "stdout",
     "output_type": "stream",
     "text": [
      "False\n",
      "False\n",
      "True\n",
      "True\n"
     ]
    }
   ],
   "source": [
    "# My Solution\n",
    "class Solution:\n",
    "    def canConstruct(self, str1:str, str2:str) -> bool:\n",
    "        mag_dict = {}\n",
    "        for i in str2: # Magazine\n",
    "            if i in mag_dict:\n",
    "                mag_dict[i] += 1\n",
    "            else:\n",
    "                mag_dict[i] = 1\n",
    "        for j in str1: # Ransom\n",
    "            if j in mag_dict:\n",
    "                mag_dict[j] -=1\n",
    "                if mag_dict[j] < 0:\n",
    "                    return False\n",
    "            else:\n",
    "                return False\n",
    "            \n",
    "        return True\n",
    "        \n",
    "solution = Solution()\n",
    "print(solution.canConstruct(\"a\", \"b\"))\n",
    "print(solution.canConstruct(\"aa\", \"ab\"))\n",
    "print(solution.canConstruct(\"aa\", \"aab\"))\n",
    "print(solution.canConstruct(\"hell\", \"hello\"))"
   ]
  },
  {
   "cell_type": "code",
   "execution_count": 132,
   "id": "d4744f24",
   "metadata": {},
   "outputs": [
    {
     "name": "stdout",
     "output_type": "stream",
     "text": [
      "False\n",
      "False\n",
      "True\n",
      "True\n"
     ]
    }
   ],
   "source": [
    "# Sample solution (用数组做hash table: 使用map的空间消耗要比数组大一些的，因为map要维护红黑树或者哈希表，而且还要做哈希函数，是费时的！)\n",
    "class Solution:\n",
    "    def canConstruct(self, ransomNote: str, magazine: str) -> bool:\n",
    "\n",
    "        arr = [0] * 26\n",
    "\n",
    "        for x in magazine:\n",
    "            arr[ord(x) - ord('a')] += 1\n",
    "\n",
    "        for x in ransomNote:\n",
    "            if arr[ord(x) - ord('a')] == 0:\n",
    "                return False\n",
    "            else:\n",
    "                arr[ord(x) - ord('a')] -= 1\n",
    "        \n",
    "        return True\n",
    "\n",
    "solution = Solution()\n",
    "print(solution.canConstruct(\"a\", \"b\"))\n",
    "print(solution.canConstruct(\"aa\", \"ab\"))\n",
    "print(solution.canConstruct(\"aa\", \"aab\"))\n",
    "print(solution.canConstruct(\"hell\", \"hello\"))"
   ]
  },
  {
   "cell_type": "markdown",
   "id": "47147e24",
   "metadata": {},
   "source": [
    "### 第15题. 三数之和\n",
    "\n",
    "给你一个包含 n 个整数的数组 nums，判断 nums 中是否存在三个元素 a，b，c ，使得 a + b + c = 0 ？请你找出所有满足条件且不重复的三元组。\n",
    "\n",
    "注意： 答案中不可以包含重复的三元组。\n",
    "\n",
    "示例：\n",
    "\n",
    "给定数组 nums = [-1, 0, 1, 2, -1, -4]，\n",
    "\n",
    "满足要求的三元组集合为： [ [-1, 0, 1], [-1, -1, 2] ]\n",
    "\n"
   ]
  },
  {
   "cell_type": "code",
   "execution_count": 159,
   "id": "12147143",
   "metadata": {},
   "outputs": [
    {
     "data": {
      "text/plain": [
       "[-4, -1, -1, 0, 1, 2]"
      ]
     },
     "execution_count": 159,
     "metadata": {},
     "output_type": "execute_result"
    }
   ],
   "source": [
    "# Test case\n",
    "nums = [- 1, 0, 1, 2, -1, -4]\n",
    "sorted(nums)"
   ]
  },
  {
   "cell_type": "code",
   "execution_count": 160,
   "id": "98d50d4d",
   "metadata": {},
   "outputs": [
    {
     "data": {
      "text/plain": [
       "[[2, -1, -1], [1, -1, 0], [0, -1, 1], [2, -4, 2], [2, -1, -1]]"
      ]
     },
     "execution_count": 160,
     "metadata": {},
     "output_type": "execute_result"
    }
   ],
   "source": [
    "# My solution is flawed (It contains repeated solutions and solution with repeated number)\n",
    "class Solution:\n",
    "    def threeSum(self, nums):\n",
    "        dict_ = {}\n",
    "        for i in range(len(nums)):\n",
    "            for j in range(i+1, len(nums)):\n",
    "                dict_[0 - nums[i] - nums[j]] = [nums[i], nums[j]]\n",
    "        result = []        \n",
    "        for i in nums:\n",
    "            if i in dict_:\n",
    "                result.append(dict_[i] + [i])\n",
    "        return result\n",
    "\n",
    "solution = Solution()\n",
    "solution.threeSum(nums)"
   ]
  },
  {
   "cell_type": "code",
   "execution_count": 161,
   "id": "2bd1b09d",
   "metadata": {},
   "outputs": [
    {
     "data": {
      "text/plain": [
       "[[-1, -1, 2], [-1, 0, 1]]"
      ]
     },
     "execution_count": 161,
     "metadata": {},
     "output_type": "execute_result"
    }
   ],
   "source": [
    "# Sample Solution (这题比较难，最好回顾视频讲解)\n",
    "class Solution:\n",
    "    def threeSum(self, nums):\n",
    "        \n",
    "        ans = []\n",
    "        n = len(nums)\n",
    "        nums = sorted(nums) # Sort the list，将数字从小到大排列\n",
    "        for i in range(n): \n",
    "            left = i + 1 # 左指针从左往右移动\n",
    "            right = n - 1 # 右指针从右往左移动\n",
    "            if nums[i] > 0: # 如果某一个数字直接大于0，break\n",
    "                break\n",
    "            if i >= 1 and nums[i] == nums[i - 1]: # 查重处理，将当前数字跟之前的数字比较\n",
    "                continue \n",
    "            while left < right: # 当右指针大于左指针 （因为数字经过了SORT，所以右边的一定比左边的大，直到左右指针相交）\n",
    "                total = nums[i] + nums[left] + nums[right] # 计算总数\n",
    "                if total > 0: # 如果总数 > 0, 我们需要把总数缩小，于是需要把右指针往左移动 （因为sort之后，右边大，左边小）\n",
    "                    right -= 1\n",
    "                elif total < 0: # 如果总数 < 0, 我们需要把总数放大，于是需要把左指针往右移动 （因为sort之后，右边大，左边小）\n",
    "                    left += 1\n",
    "                else:\n",
    "                    ans.append([nums[i], nums[left], nums[right]]) # 集合所有符合标准的答案，i + left + right = 0\n",
    "                    while left != right and nums[left] == nums[left + 1]: left += 1 # 查重处理\n",
    "                    while left != right and nums[right] == nums[right - 1]: right -= 1 #查重处理\n",
    "                    left += 1\n",
    "                    right -= 1\n",
    "        return ans\n",
    "    \n",
    "solution = Solution()\n",
    "solution.threeSum(nums)"
   ]
  },
  {
   "cell_type": "markdown",
   "id": "923ba454",
   "metadata": {},
   "source": [
    "### 第18题. 四数之和\n",
    "\n",
    "题意：给定一个包含 n 个整数的数组 nums 和一个目标值 target，判断 nums 中是否存在四个元素 a，b，c 和 d ，使得 a + b + c + d 的值与 target 相等？找出所有满足条件且不重复的四元组。\n",
    "\n",
    "注意：\n",
    "\n",
    "答案中不可以包含重复的四元组。\n",
    "\n",
    "示例： 给定数组 nums = [1, 0, -1, 0, -2, 2]，和 target = 0。 满足要求的四元组集合为： [ [-1, 0, 0, 1], [-2, -1, 1, 2], [-2, 0, 0, 2] ]"
   ]
  },
  {
   "cell_type": "code",
   "execution_count": 166,
   "id": "5243aab7",
   "metadata": {},
   "outputs": [],
   "source": [
    "# Test case\n",
    "\n",
    "nums = [1, 0, -1, 0, -2, 2]\n",
    "target = 0"
   ]
  },
  {
   "cell_type": "code",
   "execution_count": 165,
   "id": "5609e893",
   "metadata": {},
   "outputs": [
    {
     "data": {
      "text/plain": [
       "[[-2, -1, 1, 2], [-2, 0, 0, 2], [-1, 0, 0, 1]]"
      ]
     },
     "execution_count": 165,
     "metadata": {},
     "output_type": "execute_result"
    }
   ],
   "source": [
    "# Sample answer.1\n",
    "\n",
    "# 双指针法\n",
    "class Solution:\n",
    "    def fourSum(self, nums: list[int], target: int) -> list[list[int]]:\n",
    "        \n",
    "        nums.sort()\n",
    "        n = len(nums)\n",
    "        res = []\n",
    "        for i in range(n):\n",
    "            if i > 0 and nums[i] == nums[i - 1]: continue\n",
    "            for k in range(i+1, n):\n",
    "                if k > i + 1 and nums[k] == nums[k-1]: continue\n",
    "                p = k + 1\n",
    "                q = n - 1\n",
    "\n",
    "                while p < q:\n",
    "                    if nums[i] + nums[k] + nums[p] + nums[q] > target: q -= 1\n",
    "                    elif nums[i] + nums[k] + nums[p] + nums[q] < target: p += 1\n",
    "                    else:\n",
    "                        res.append([nums[i], nums[k], nums[p], nums[q]])\n",
    "                        while p < q and nums[p] == nums[p + 1]: p += 1\n",
    "                        while p < q and nums[q] == nums[q - 1]: q -= 1\n",
    "                        p += 1\n",
    "                        q -= 1\n",
    "        return res\n",
    "    \n",
    "solution = Solution()\n",
    "solution.fourSum(nums, target)"
   ]
  },
  {
   "cell_type": "code",
   "execution_count": 170,
   "id": "3d35cc25",
   "metadata": {},
   "outputs": [
    {
     "name": "stdout",
     "output_type": "stream",
     "text": [
      "{1: 1, 0: 2, -1: 1, -2: 1, 2: 1}\n"
     ]
    },
    {
     "data": {
      "text/plain": [
       "[(-2, -1, 1, 2), (-1, 0, 0, 1), (-2, 0, 0, 2)]"
      ]
     },
     "execution_count": 170,
     "metadata": {},
     "output_type": "execute_result"
    }
   ],
   "source": [
    "# Sample answer.2\n",
    "\n",
    "# 哈希表法\n",
    "class Solution(object):\n",
    "    def fourSum(self, nums, target):\n",
    "        \"\"\"\n",
    "        :type nums: List[int]\n",
    "        :type target: int\n",
    "        :rtype: List[List[int]]\n",
    "        \"\"\"\n",
    "        # use a dict to store value:showtimes\n",
    "        hashmap = dict()\n",
    "        for n in nums:\n",
    "            if n in hashmap:\n",
    "                hashmap[n] += 1\n",
    "            else: \n",
    "                hashmap[n] = 1\n",
    "        print(hashmap)\n",
    "        \n",
    "        # good thing about using python is you can use set to drop duplicates.\n",
    "        ans = set()\n",
    "        # ans = []  # save results by list()\n",
    "        for i in range(len(nums)):\n",
    "            for j in range(i + 1, len(nums)):\n",
    "                for k in range(j + 1, len(nums)):\n",
    "                    val = target - (nums[i] + nums[j] + nums[k])\n",
    "                    \n",
    "                    if val in hashmap:\n",
    "                        # make sure no duplicates.\n",
    "                        # This is calculate \n",
    "                        count = (nums[i] == val) + (nums[j] == val) + (nums[k] == val)\n",
    "                        if hashmap[val] > count:\n",
    "                          ans_tmp = tuple(sorted([nums[i], nums[j], nums[k], val]))\n",
    "                          ans.add(ans_tmp)\n",
    "                          # Avoiding duplication in list manner but it cause time complexity increases\n",
    "                          # if ans_tmp not in ans:  \n",
    "                          #     ans.append(ans_tmp)\n",
    "                        else:\n",
    "                            continue\n",
    "        return list(ans) \n",
    "        # if used list() to save results, just \n",
    "        # return ans\n",
    "        \n",
    "solution = Solution()\n",
    "solution.fourSum(nums, target)        "
   ]
  },
  {
   "cell_type": "code",
   "execution_count": 172,
   "id": "7e66d8b6",
   "metadata": {},
   "outputs": [
    {
     "data": {
      "text/plain": [
       "True"
      ]
     },
     "execution_count": 172,
     "metadata": {},
     "output_type": "execute_result"
    }
   ],
   "source": [
    "a = 1\n",
    "b = 2\n",
    "c = 1\n",
    "count = (a == 1) + \n",
    "count\n"
   ]
  },
  {
   "cell_type": "code",
   "execution_count": null,
   "id": "626689e2",
   "metadata": {},
   "outputs": [],
   "source": []
  }
 ],
 "metadata": {
  "kernelspec": {
   "display_name": "Python 3 (ipykernel)",
   "language": "python",
   "name": "python3"
  },
  "language_info": {
   "codemirror_mode": {
    "name": "ipython",
    "version": 3
   },
   "file_extension": ".py",
   "mimetype": "text/x-python",
   "name": "python",
   "nbconvert_exporter": "python",
   "pygments_lexer": "ipython3",
   "version": "3.9.12"
  }
 },
 "nbformat": 4,
 "nbformat_minor": 5
}
