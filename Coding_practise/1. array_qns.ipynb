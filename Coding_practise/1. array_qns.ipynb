{
 "cells": [
  {
   "cell_type": "markdown",
   "id": "75c532da",
   "metadata": {},
   "source": [
    "### Challenging questions:\n",
    "- (19/09/2022)：27, 209, 59"
   ]
  },
  {
   "cell_type": "markdown",
   "id": "37fecc6f",
   "metadata": {},
   "source": [
    "### 19/09/2022\n",
    "\n",
    "### 704. 二分查找\n",
    "\n",
    "给定一个 n 个元素有序的（升序）整型数组 nums 和一个目标值 target  ，写一个函数搜索 nums 中的 target，如果目标值存在返回下标，否则返回 -1。\n",
    "\n",
    "\n",
    "输入: nums = [-1,0,3,5,9,12], target = 9     \n",
    "输出: 4       \n",
    "解释: 9 出现在 nums 中并且下标为 4     \n"
   ]
  },
  {
   "cell_type": "code",
   "execution_count": null,
   "id": "1b6bd72b",
   "metadata": {},
   "outputs": [],
   "source": [
    "# Test case\n",
    "nums = [-1,0,3,5,9,12]\n",
    "target = 9"
   ]
  },
  {
   "cell_type": "code",
   "execution_count": 32,
   "id": "f1d9f19d",
   "metadata": {},
   "outputs": [
    {
     "name": "stdout",
     "output_type": "stream",
     "text": [
      "4\n",
      "4\n"
     ]
    }
   ],
   "source": [
    "# My solution.1\n",
    "def find(nums, target):\n",
    "    if target in nums:\n",
    "        return nums.index(target)\n",
    "    else:\n",
    "        return -1\n",
    "    \n",
    "nums = [-1,0,3,5,9,12]\n",
    "target = 9\n",
    "\n",
    "print(find(nums, target))\n",
    "\n",
    "# My solution.2\n",
    "def find(nums, target):\n",
    "    if target not in nums:\n",
    "        return -1\n",
    "    for i in range(0, len(nums)):\n",
    "        if nums[i] == target:\n",
    "            return i\n",
    "        \n",
    "print(find(nums, target))"
   ]
  },
  {
   "cell_type": "code",
   "execution_count": 33,
   "id": "4725436e",
   "metadata": {},
   "outputs": [
    {
     "name": "stdout",
     "output_type": "stream",
     "text": [
      "4\n",
      "4\n"
     ]
    }
   ],
   "source": [
    "# Sample answers (2 ways)\n",
    "class Solution:\n",
    "    def search(self, nums, target):\n",
    "        left, right = 0, len(nums) - 1\n",
    "        \n",
    "        while left <= right:\n",
    "            middle = (left + right) // 2\n",
    "\n",
    "            if nums[middle] < target:\n",
    "                left = middle + 1\n",
    "            elif nums[middle] > target:\n",
    "                right = middle - 1\n",
    "            else:\n",
    "                return middle\n",
    "        return -1\n",
    "    \n",
    "    \n",
    "    def search2(self, nums, target):\n",
    "        if nums is None or len(nums)==0:\n",
    "            return -1\n",
    "        left, right = 0, len(nums) - 1\n",
    "        while (left <= right):\n",
    "            m = round(left+(right-left)/2)\n",
    "            if nums[m] == target:\n",
    "                return m     \n",
    "            elif nums[m] > target:\n",
    "                right=m-1\n",
    "            else:\n",
    "                left=m+1\n",
    "        return -1 \n",
    "    \n",
    "solution = Solution()\n",
    "print(solution.search(nums, target))\n",
    "print(solution.search2(nums, target))"
   ]
  },
  {
   "cell_type": "markdown",
   "id": "a8cfea00",
   "metadata": {},
   "source": [
    "### 27. 移除元素\n",
    "\n",
    "给你一个数组 nums 和一个值 val，你需要 原地 移除所有数值等于 val 的元素，并返回移除后数组的新长度。\n",
    "\n",
    "不要使用额外的数组空间，你必须仅使用 O(1) 额外空间并原地修改输入数组。\n",
    "\n",
    "元素的顺序可以改变。你不需要考虑数组中超出新长度后面的元素。\n",
    "\n",
    "示例 1: 给定 nums = [3,2,2,3], val = 3, 函数应该返回新的长度 2, 并且 nums 中的前两个元素均为 2。 你不需要考虑数组中超出新长度后面的元素。\n",
    "\n",
    "示例 2: 给定 nums = [0,1,2,2,3,0,4,2], val = 2, 函数应该返回新的长度 5, 并且 nums 中的前五个元素为 0, 1, 3, 0, 4。\n",
    "\n",
    "你不需要考虑数组中超出新长度后面的元素。"
   ]
  },
  {
   "cell_type": "code",
   "execution_count": 111,
   "id": "e7ae28be",
   "metadata": {},
   "outputs": [],
   "source": [
    "# Test case\n",
    "nums = [2,0,1,2,2,3,0,4,2]\n",
    "val = 2\n",
    "\n",
    "# nums = [3,2,2,3]\n",
    "# val = 3"
   ]
  },
  {
   "cell_type": "code",
   "execution_count": 112,
   "id": "6e45b3bc",
   "metadata": {},
   "outputs": [
    {
     "name": "stdout",
     "output_type": "stream",
     "text": [
      "The new length is 5\n",
      "The first five elements are [0, 1, 3, 0, 4]\n"
     ]
    },
    {
     "data": {
      "text/plain": [
       "[0, 1, 3, 0, 4, 0, 4, 2]"
      ]
     },
     "execution_count": 112,
     "metadata": {},
     "output_type": "execute_result"
    }
   ],
   "source": [
    "# My Best Solution (双指针)\n",
    "\n",
    "# 快指针：寻找新数组的元素 ，新数组就是不含有目标元素的数组\n",
    "# 慢指针：指向更新 新数组下标的位置\n",
    "\n",
    "class Solution:\n",
    "    def remove(self, nums, val):\n",
    "        if nums[0] == val: # If the first element is the target val, delete the first element\n",
    "            del nums[0]\n",
    "            \n",
    "        # This del operator also performs the removal of list elements in place \n",
    "        # and decreases the size of the list by 1. \n",
    "        \n",
    "        slow = 0 # Define the slow pointer\n",
    "        for fast in range(0,len(nums)-1):\n",
    "            fast += 1 # Move the fast pointer \n",
    "            if nums[fast] != val: # If the fast pointer finds an element that is not the target 'val'\n",
    "                slow += 1 \n",
    "                nums[slow] = nums[fast] # Move that element to be the next element by updating the slow pointer\n",
    "        print(f'The new length is {slow + 1}')\n",
    "        print(f'The first five elements are {nums[:slow + 1]}')\n",
    "        return nums\n",
    "    \n",
    "solution = Solution()\n",
    "solution.remove(nums, val)"
   ]
  },
  {
   "cell_type": "markdown",
   "id": "e68e8769",
   "metadata": {},
   "source": [
    "### 977.有序数组的平方\n",
    "\n",
    "给你一个按 非递减顺序 排序的整数数组 nums，返回 每个数字的平方 组成的新数组，要求也按 非递减顺序 排序。\n",
    "\n",
    "示例 1： 输入：nums = [-4,-1,0,3,10] 输出：[0,1,9,16,100] 解释：平方后，数组变为 [16,1,0,9,100]，排序后，数组变为 [0,1,9,16,100]\n",
    "\n",
    "示例 2： 输入：nums = [-7,-3,2,3,11] 输出：[4,9,9,49,121]"
   ]
  },
  {
   "cell_type": "code",
   "execution_count": 132,
   "id": "e1ba3de3",
   "metadata": {},
   "outputs": [],
   "source": [
    "# Test case\n",
    "nums = [-4,-1,0,3,10] \n"
   ]
  },
  {
   "cell_type": "code",
   "execution_count": 131,
   "id": "f3b0f186",
   "metadata": {},
   "outputs": [
    {
     "data": {
      "text/plain": [
       "[0, 1, 9, 16, 100]"
      ]
     },
     "execution_count": 131,
     "metadata": {},
     "output_type": "execute_result"
    }
   ],
   "source": [
    "# My solution (暴力解法)\n",
    "import numpy as np\n",
    "class Solution:\n",
    "    def sort_square(self, nums):\n",
    "        res = []\n",
    "        for i in nums:\n",
    "            res.append(i**2)\n",
    "        res.sort()\n",
    "        return res\n",
    "        \n",
    "solution = Solution()\n",
    "solution.sort_square(nums)"
   ]
  },
  {
   "cell_type": "code",
   "execution_count": 134,
   "id": "e5515754",
   "metadata": {},
   "outputs": [
    {
     "data": {
      "text/plain": [
       "[0, 1, 9, 16, 100]"
      ]
     },
     "execution_count": 134,
     "metadata": {},
     "output_type": "execute_result"
    }
   ],
   "source": [
    "# Sample solution (双指针)\n",
    "class Solution:\n",
    "    def sortedSquares(self, nums):\n",
    "        n = len(nums)\n",
    "        i,j,k = 0,n - 1,n - 1\n",
    "        ans = [-1] * n\n",
    "        while i <= j:\n",
    "            lm = nums[i] ** 2\n",
    "            rm = nums[j] ** 2\n",
    "            if lm > rm:\n",
    "                ans[k] = lm\n",
    "                i += 1\n",
    "            else:\n",
    "                ans[k] = rm\n",
    "                j -= 1\n",
    "            k -= 1\n",
    "        return ans\n",
    "    \n",
    "        \n",
    "solution = Solution()\n",
    "solution.sortedSquares(nums)"
   ]
  },
  {
   "cell_type": "markdown",
   "id": "3b43cf68",
   "metadata": {},
   "source": [
    "### 209.长度最小的子数组\n",
    "\n",
    "给定一个含有 n 个正整数的数组和一个正整数 s ，找出该数组中满足其和 ≥ s 的长度最小的 连续子数组，并返回其长度。如果不存在符合条件的子数组，返回 0。\n",
    "\n",
    "示例：\n",
    "\n",
    "输入：s = 7, nums = [2,3,1,2,4,3] 输出：2 解释：子数组 [4,3] 是该条件下的长度最小的子数组。"
   ]
  },
  {
   "cell_type": "code",
   "execution_count": 2,
   "id": "77c2c213",
   "metadata": {},
   "outputs": [],
   "source": [
    "# Test case\n",
    "s = 8\n",
    "nums = [2,3,1,2,4,3]"
   ]
  },
  {
   "cell_type": "code",
   "execution_count": 3,
   "id": "7ca232b9",
   "metadata": {},
   "outputs": [
    {
     "name": "stdout",
     "output_type": "stream",
     "text": [
      "[2, 3, 1, 2, 4]\n",
      "[3, 1, 2, 4, 3]\n",
      "[1, 2, 4, 3]\n",
      "[2, 4, 3]\n"
     ]
    },
    {
     "data": {
      "text/plain": [
       "3"
      ]
     },
     "execution_count": 3,
     "metadata": {},
     "output_type": "execute_result"
    }
   ],
   "source": [
    "# After seeing the reference solution\n",
    "class Solution:\n",
    "    def find_sum(self, target, nums):\n",
    "        i, j = 0, 0 \n",
    "        total = 0\n",
    "        length = len(nums)+1 # Note that the maximum j = len(nums)+1, if i = 0, the maximum length (j-i) = len(nums)+1\n",
    "        for j in range(0,len(nums)):\n",
    "            total += nums[j] # add new elements on the right\n",
    "            j += 1\n",
    "            while (total >= target):\n",
    "                print(nums[i:j+1])\n",
    "                length = min(length, j - i)\n",
    "                total -= nums[i] # subtract old elements from left to right\n",
    "                i += 1\n",
    "            \n",
    "        if length == len(nums)+1:\n",
    "            return 0\n",
    "        else: \n",
    "            return length\n",
    "        \n",
    "        \n",
    "solution = Solution()\n",
    "solution.find_sum(s, nums)"
   ]
  },
  {
   "cell_type": "markdown",
   "id": "03cf21a8",
   "metadata": {},
   "source": [
    "### 20/09/2022\n",
    "\n",
    "### 59.螺旋矩阵II\n",
    "\n",
    "给定一个正整数 n，生成一个包含 1 到 n^2 所有元素，且元素按顺时针顺序螺旋排列的正方形矩阵。\n",
    "\n",
    "示例:\n",
    "\n",
    "输入: 3 输出: [ [ 1, 2, 3 ], [ 8, 9, 4 ], [ 7, 6, 5 ] ]"
   ]
  },
  {
   "cell_type": "code",
   "execution_count": 191,
   "id": "7023c362",
   "metadata": {},
   "outputs": [],
   "source": [
    "# Test case\n",
    "num = 4"
   ]
  },
  {
   "cell_type": "code",
   "execution_count": 192,
   "id": "392fdc7b",
   "metadata": {},
   "outputs": [
    {
     "data": {
      "text/plain": [
       "[[1, 2, 3, 4], [12, 13, 14, 5], [11, 16, 15, 6], [10, 9, 8, 7]]"
      ]
     },
     "execution_count": 192,
     "metadata": {},
     "output_type": "execute_result"
    }
   ],
   "source": [
    "# Sample Solution\n",
    "\n",
    "class Solution:\n",
    "    def generateMatrix(self, n):\n",
    "        nums = [[0] * n for _ in range(n)] # Create an empty matrix with 0\n",
    "        # nums =[[0]*n]*n # This also works \n",
    "        startx, starty = 0, 0               # 起始点\n",
    "        loop, mid = n // 2, n // 2          # 迭代次数、n为奇数时，矩阵的中心点\n",
    "        count = 1                           # 计数\n",
    "\n",
    "        for offset in range(1, loop + 1) :      # 每循环一层偏移量加1，偏移量从1开始\n",
    "            for i in range(starty, n - offset) :    # 从左至右，左闭右开\n",
    "                nums[startx][i] = count\n",
    "                count += 1\n",
    "            for i in range(startx, n - offset) :    # 从上至下\n",
    "                nums[i][n - offset] = count\n",
    "                count += 1\n",
    "            for i in range(n - offset, starty, -1) : # 从右至左\n",
    "                nums[n - offset][i] = count\n",
    "                count += 1\n",
    "            for i in range(n - offset, startx, -1) : # 从下至上\n",
    "                nums[i][starty] = count\n",
    "                count += 1                \n",
    "            startx += 1         # 更新起始点\n",
    "            starty += 1\n",
    "\n",
    "        if n % 2 != 0 :# n为奇数时，填充中心点\n",
    "            nums[mid][mid] = count \n",
    "        return nums\n",
    "solution = Solution()\n",
    "solution.generateMatrix(num)"
   ]
  },
  {
   "cell_type": "code",
   "execution_count": 188,
   "id": "1d1fa66a",
   "metadata": {},
   "outputs": [
    {
     "name": "stdout",
     "output_type": "stream",
     "text": [
      "[1, 2]\n",
      "[3, 4]\n",
      "[5, 6]\n",
      "[7, 8]\n"
     ]
    }
   ],
   "source": [
    "# Some Working\n",
    "\n",
    "num = 3\n",
    "row_up = []\n",
    "col_right = []\n",
    "row_down = []\n",
    "col_left = []\n",
    "\n",
    "for i in range(1, num):\n",
    "    row_up.append(i)\n",
    "for j in range(num, num*2-1):\n",
    "    col_right.append(j)\n",
    "for k in range(num*2-1, num*3-2):\n",
    "    row_down.append(k)\n",
    "for x in range(num*3-2, num*4-3):\n",
    "    col_left.append(x)\n",
    "    \n",
    "    \n",
    "print(row_up)\n",
    "print(col_right)\n",
    "print(row_down)\n",
    "print(col_left)\n"
   ]
  },
  {
   "cell_type": "code",
   "execution_count": null,
   "id": "eb98f7c7",
   "metadata": {},
   "outputs": [],
   "source": []
  }
 ],
 "metadata": {
  "kernelspec": {
   "display_name": "Python 3 (ipykernel)",
   "language": "python",
   "name": "python3"
  },
  "language_info": {
   "codemirror_mode": {
    "name": "ipython",
    "version": 3
   },
   "file_extension": ".py",
   "mimetype": "text/x-python",
   "name": "python",
   "nbconvert_exporter": "python",
   "pygments_lexer": "ipython3",
   "version": "3.9.12"
  }
 },
 "nbformat": 4,
 "nbformat_minor": 5
}
