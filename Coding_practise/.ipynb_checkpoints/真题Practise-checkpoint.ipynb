{
 "cells": [
  {
   "cell_type": "markdown",
   "id": "5c481b2e",
   "metadata": {},
   "source": [
    "# GS.1\n",
    "### Array Game:\n",
    "\n",
    "Given an array of intergers, determine the number of moves to make all elements equal. Each move consists of choosing all but 1 element and incrementing their values by 1."
   ]
  },
  {
   "cell_type": "code",
   "execution_count": 83,
   "id": "ea43119e",
   "metadata": {},
   "outputs": [],
   "source": [
    "# Test case\n",
    "numbers = [3,4,6,6,3]"
   ]
  },
  {
   "cell_type": "code",
   "execution_count": 84,
   "id": "1bbbfc66",
   "metadata": {},
   "outputs": [],
   "source": [
    "def arraygame(numbers):\n",
    "    print(numbers)\n",
    "    count = 0\n",
    "    # When all value in the numbers are equal, the minimum = maximum\n",
    "    while min(numbers)!= max(numbers):\n",
    "        # Find the index of the la\n",
    "        index_to_fix = numbers.index(max(numbers))\n",
    "        for i in range(len(numbers)):\n",
    "            if i != index_to_fix:\n",
    "                numbers[i] += 1\n",
    "        print(numbers)\n",
    "        count+=1\n",
    "        \n",
    "    return count\n",
    "            \n",
    "        "
   ]
  },
  {
   "cell_type": "code",
   "execution_count": 85,
   "id": "772d3d7e",
   "metadata": {},
   "outputs": [
    {
     "name": "stdout",
     "output_type": "stream",
     "text": [
      "[3, 4, 6, 6, 3]\n",
      "[4, 5, 6, 7, 4]\n",
      "[5, 6, 7, 7, 5]\n",
      "[6, 7, 7, 8, 6]\n",
      "[7, 8, 8, 8, 7]\n",
      "[8, 8, 9, 9, 8]\n",
      "[9, 9, 9, 10, 9]\n",
      "[10, 10, 10, 10, 10]\n"
     ]
    },
    {
     "data": {
      "text/plain": [
       "7"
      ]
     },
     "execution_count": 85,
     "metadata": {},
     "output_type": "execute_result"
    }
   ],
   "source": [
    "arraygame(numbers)"
   ]
  },
  {
   "cell_type": "markdown",
   "id": "7b34921a",
   "metadata": {},
   "source": [
    "# GS.2\n",
    "### Divisibility of Strings\n",
    "\n",
    "Given two strings, s and t, create a function that operates per the following rules:\n",
    "\n",
    "1. Find whether string s is divisible by string t. String s divisible by string t if string t can be concatenated some number of times to obtain the string s.\n",
    "\n",
    "- If s is divisible, find the smallest string, u, such that it can be concatenated some number of times to obtain both s and t.\n",
    "\n",
    "- If it is not divisible, set the return value to -1.\n",
    "\n",
    "2. Return the length of the string u or -1"
   ]
  },
  {
   "cell_type": "code",
   "execution_count": 86,
   "id": "bbd10117",
   "metadata": {},
   "outputs": [],
   "source": [
    "# Test case\n",
    "s = 'abcdeabcde'\n",
    "t = 'abcde'"
   ]
  },
  {
   "cell_type": "code",
   "execution_count": 87,
   "id": "c2ed2e4a",
   "metadata": {},
   "outputs": [
    {
     "name": "stdout",
     "output_type": "stream",
     "text": [
      "abcde\n"
     ]
    },
    {
     "data": {
      "text/plain": [
       "5"
      ]
     },
     "execution_count": 87,
     "metadata": {},
     "output_type": "execute_result"
    }
   ],
   "source": [
    "def divisibilityOfString(s,t):\n",
    "    \n",
    "    # Check the length of both strings, if the length is not divisible, \n",
    "    # the string is definitely not divisible\n",
    "    if len(s)%len(t)!=0:\n",
    "        return -1\n",
    "\n",
    "    else:\n",
    "        # If the length is divisible, compute the length_ratio\n",
    "        length_ratio = len(s)/len(t)\n",
    "        \n",
    "        # If string t concatenates length_ratio times != string s\n",
    "        if t*int(length_ratio) != s:\n",
    "            # Not divisible\n",
    "            return -1\n",
    "        else:\n",
    "            \n",
    "            # Now we know it is divisible, we need to find the smallest string u, \n",
    "            # such that it can be concatenated some number of times to obtain both s and t.\n",
    "            for i in range(1, len(t)+1):\n",
    "                \n",
    "                # Unit is a fraction of the string t, if t = 'abc', unit will be 'a', 'ab', 'abc'\n",
    "                unit = t[:i]\n",
    "                \n",
    "                # Check the length of the string, if not divisible, len(t) % len(unit)!=0\n",
    "                if len(t) % len(unit) == 0:\n",
    "                    \n",
    "                    # Concatenate the unit 'int(len(t)/len(unit))' times to see whether it matches t\n",
    "                    if unit * int(len(t)/len(unit)) == t:\n",
    "                        \n",
    "                        # Print result \n",
    "                        print(unit)\n",
    "                        return len(unit)\n",
    "                    else:\n",
    "                        continue\n",
    "\n",
    "divisibilityOfString(s,t)"
   ]
  },
  {
   "cell_type": "markdown",
   "id": "f15705b8",
   "metadata": {},
   "source": [
    "## GS.3\n",
    "### Cardinality Sorting\n",
    "\n",
    "The binary cardinality of a number is the total number of 1's it contains in its binary representation. For example, the decimal integer 20base10 corresponds to the binary number 10100base2. There are 2 1's in the binary representation so its binary cardinality is 2.\n",
    "\n",
    "Given an array of decimal integers, sort it ascending first by binary cardinality, then by decimal value. Return the resulting array.\n",
    "\n",
    "Input = [1,2,3,4]\n",
    "\n",
    "array to return is [1,2,4,31."
   ]
  },
  {
   "cell_type": "code",
   "execution_count": 7,
   "id": "2c5ce47a",
   "metadata": {},
   "outputs": [
    {
     "name": "stdout",
     "output_type": "stream",
     "text": [
      "[1, 1, 2, 1, 2]\n"
     ]
    },
    {
     "data": {
      "text/plain": [
       "[1, 2, 4, 3, 3]"
      ]
     },
     "execution_count": 7,
     "metadata": {},
     "output_type": "execute_result"
    }
   ],
   "source": [
    "def cardinalitySort(nums):\n",
    "    binary_card = []\n",
    "    for i in nums:\n",
    "        binary = str(bin(i)) # Convert a number to a binary number and convert to a string\n",
    "        binary_card.append(binary.count('1')) # Count the number of 1s in the string\n",
    "    print(binary_card)\n",
    "\n",
    "    # y refers to binary_card, x refers to nums\n",
    "    # sorted(zip(binary_card, nums)) will sort based on binary_card ascendingly\n",
    "    result = [x for y, x in sorted(zip(binary_card, nums))]\n",
    "    return result\n",
    "   \n",
    "nums = [1,2,3,4,3] \n",
    "cardinalitySort(nums)"
   ]
  },
  {
   "cell_type": "code",
   "execution_count": 8,
   "id": "852831a0",
   "metadata": {},
   "outputs": [
    {
     "name": "stdout",
     "output_type": "stream",
     "text": [
      "This is the binary_card: [1, 1, 2, 1, 2]\n",
      "This is the nums: [1, 2, 3, 4, 3]\n",
      "[(1, 1), (1, 2), (1, 4), (2, 3), (2, 3)]\n",
      "[(1, 1), (2, 1), (3, 2), (3, 2), (4, 1)]\n"
     ]
    }
   ],
   "source": [
    "# Knowledge point\n",
    "binary_card = [1,1,2,1,2]\n",
    "nums = [1,2,3,4,3] \n",
    "print(f'This is the binary_card: {binary_card}')\n",
    "print(f'This is the nums: {nums}')\n",
    "print(sorted(zip(binary_card, nums)))\n",
    "print(sorted(zip(nums, binary_card)))"
   ]
  },
  {
   "cell_type": "markdown",
   "id": "5d8b45f4",
   "metadata": {},
   "source": [
    "## GS.4\n",
    "### Word Compression\n",
    "\n",
    "A student decides to perform some operations on big words to compress them, so they become easy to remember. An operation consists of choosing a group of K consecutive equal characters and removing them. The student keeps performing this operation as long as it is possible. Determine the final word after the operation is performed.\n",
    "\n",
    "Example:\n",
    "word = \"abbcccb\"\\\n",
    "k = 3\\\n",
    "Remove k = 3 characters 'C', now word = \"abbb\".\\\n",
    "Remove 3 characters b', so the final word is \"a\".\n"
   ]
  },
  {
   "cell_type": "code",
   "execution_count": 10,
   "id": "a1860934",
   "metadata": {},
   "outputs": [],
   "source": [
    "# Test case\n",
    "\n",
    "S = 'abbcccb'\n",
    "k = 3"
   ]
  },
  {
   "cell_type": "code",
   "execution_count": 11,
   "id": "f15a98fc",
   "metadata": {},
   "outputs": [],
   "source": [
    "# Code is developped in 5. Queue and stack\n",
    "# Check leetcode 1047\n",
    "\n",
    "def compressWord(word, k):\n",
    "    stack = [] # Define a stack using list\n",
    "    for i in word: # Iterate each letter in the string\n",
    "        stack.append(i) # Add the value to the stack first\n",
    "\n",
    "        # If the length of stack is greater than k, we can start checking for repeated elements, otherwise, keep appending new values\n",
    "        if len(stack)>= k:\n",
    "\n",
    "            # Select a unit, which is the last k elements from the stack, and put that in a set\n",
    "            unit = set(stack[-k:])\n",
    "            if len(unit) == 1: # that means all the numbers in the set are equal\n",
    "                for _ in range(k):\n",
    "                    stack.pop() # pop the stack k times\n",
    "\n",
    "    return ''.join(stack) # Join the list to a string\n"
   ]
  },
  {
   "cell_type": "code",
   "execution_count": 12,
   "id": "4d37b070",
   "metadata": {},
   "outputs": [
    {
     "name": "stdout",
     "output_type": "stream",
     "text": [
      "abbcccb 1 \n",
      "abbcccb 2 acb\n",
      "abbcccb 3 a\n",
      "abbcccb 4 abbcccb\n",
      "aaaab 4 b\n",
      "aaaabcccddddcf 4 bf\n"
     ]
    }
   ],
   "source": [
    "print(S, 1, compressWord(S,1))\n",
    "print(S, 2, compressWord(S,2))\n",
    "print(S, 3, compressWord(S,3))\n",
    "print(S, 4, compressWord(S,4))\n",
    "print('aaaab', 4, compressWord('aaaab',4))\n",
    "print('aaaabcccddddcf', 4, compressWord('aaaabcccddddcf',4))"
   ]
  },
  {
   "cell_type": "code",
   "execution_count": null,
   "id": "fb78c22c",
   "metadata": {},
   "outputs": [],
   "source": []
  }
 ],
 "metadata": {
  "kernelspec": {
   "display_name": "Python 3 (ipykernel)",
   "language": "python",
   "name": "python3"
  },
  "language_info": {
   "codemirror_mode": {
    "name": "ipython",
    "version": 3
   },
   "file_extension": ".py",
   "mimetype": "text/x-python",
   "name": "python",
   "nbconvert_exporter": "python",
   "pygments_lexer": "ipython3",
   "version": "3.9.12"
  }
 },
 "nbformat": 4,
 "nbformat_minor": 5
}
