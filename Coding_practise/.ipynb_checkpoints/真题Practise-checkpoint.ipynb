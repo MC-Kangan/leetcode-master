{
 "cells": [
  {
   "cell_type": "markdown",
   "id": "5c481b2e",
   "metadata": {},
   "source": [
    "# GS.1\n",
    "\n",
    "## Array Game:\n",
    "\n",
    "Given an array of intergers, determine the number of moves to make all elements equal. Each move consists of choosing all but 1 element and incrementing their values by 1."
   ]
  },
  {
   "cell_type": "code",
   "execution_count": 83,
   "id": "ea43119e",
   "metadata": {},
   "outputs": [],
   "source": [
    "# Test case\n",
    "numbers = [3,4,6,6,3]"
   ]
  },
  {
   "cell_type": "code",
   "execution_count": 84,
   "id": "1bbbfc66",
   "metadata": {},
   "outputs": [],
   "source": [
    "def arraygame(numbers):\n",
    "    print(numbers)\n",
    "    count = 0\n",
    "    # When all value in the numbers are equal, the minimum = maximum\n",
    "    while min(numbers)!= max(numbers):\n",
    "        # Find the index of the la\n",
    "        index_to_fix = numbers.index(max(numbers))\n",
    "        for i in range(len(numbers)):\n",
    "            if i != index_to_fix:\n",
    "                numbers[i] += 1\n",
    "        print(numbers)\n",
    "        count+=1\n",
    "        \n",
    "    return count\n",
    "            \n",
    "        "
   ]
  },
  {
   "cell_type": "code",
   "execution_count": 85,
   "id": "772d3d7e",
   "metadata": {},
   "outputs": [
    {
     "name": "stdout",
     "output_type": "stream",
     "text": [
      "[3, 4, 6, 6, 3]\n",
      "[4, 5, 6, 7, 4]\n",
      "[5, 6, 7, 7, 5]\n",
      "[6, 7, 7, 8, 6]\n",
      "[7, 8, 8, 8, 7]\n",
      "[8, 8, 9, 9, 8]\n",
      "[9, 9, 9, 10, 9]\n",
      "[10, 10, 10, 10, 10]\n"
     ]
    },
    {
     "data": {
      "text/plain": [
       "7"
      ]
     },
     "execution_count": 85,
     "metadata": {},
     "output_type": "execute_result"
    }
   ],
   "source": [
    "arraygame(numbers)"
   ]
  },
  {
   "cell_type": "markdown",
   "id": "7b34921a",
   "metadata": {},
   "source": [
    "# GS.2\n",
    "## Divisibility of Strings\n",
    "\n",
    "Given two strings, s and t, create a function that operates per the following rules:\n",
    "\n",
    "1. Find whether string s is divisible by string t. String s divisible by string t if string t can be concatenated some number of times to obtain the string s.\n",
    "\n",
    "- If s is divisible, find the smallest string, u, such that it can be concatenated some number of times to obtain both s and t.\n",
    "\n",
    "- If it is not divisible, set the return value to -1.\n",
    "\n",
    "2. Return the length of the string u or -1"
   ]
  },
  {
   "cell_type": "code",
   "execution_count": 86,
   "id": "bbd10117",
   "metadata": {},
   "outputs": [],
   "source": [
    "# Test case\n",
    "s = 'abcdeabcde'\n",
    "t = 'abcde'"
   ]
  },
  {
   "cell_type": "code",
   "execution_count": 87,
   "id": "c2ed2e4a",
   "metadata": {},
   "outputs": [
    {
     "name": "stdout",
     "output_type": "stream",
     "text": [
      "abcde\n"
     ]
    },
    {
     "data": {
      "text/plain": [
       "5"
      ]
     },
     "execution_count": 87,
     "metadata": {},
     "output_type": "execute_result"
    }
   ],
   "source": [
    "def divisibilityOfString(s,t):\n",
    "    \n",
    "    # Check the length of both strings, if the length is not divisible, \n",
    "    # the string is definitely not divisible\n",
    "    if len(s)%len(t)!=0:\n",
    "        return -1\n",
    "\n",
    "    else:\n",
    "        # If the length is divisible, compute the length_ratio\n",
    "        length_ratio = len(s)/len(t)\n",
    "        \n",
    "        # If string t concatenates length_ratio times != string s\n",
    "        if t*int(length_ratio) != s:\n",
    "            # Not divisible\n",
    "            return -1\n",
    "        else:\n",
    "            \n",
    "            # Now we know it is divisible, we need to find the smallest string u, \n",
    "            # such that it can be concatenated some number of times to obtain both s and t.\n",
    "            for i in range(1, len(t)+1):\n",
    "                \n",
    "                # Unit is a fraction of the string t, if t = 'abc', unit will be 'a', 'ab', 'abc'\n",
    "                unit = t[:i]\n",
    "                \n",
    "                # Check the length of the string, if not divisible, len(t) % len(unit)!=0\n",
    "                if len(t) % len(unit) == 0:\n",
    "                    \n",
    "                    # Concatenate the unit 'int(len(t)/len(unit))' times to see whether it matches t\n",
    "                    if unit * int(len(t)/len(unit)) == t:\n",
    "                        \n",
    "                        # Print result \n",
    "                        print(unit)\n",
    "                        return len(unit)\n",
    "                    else:\n",
    "                        continue\n",
    "\n",
    "divisibilityOfString(s,t)"
   ]
  },
  {
   "cell_type": "code",
   "execution_count": null,
   "id": "436b6b3a",
   "metadata": {},
   "outputs": [],
   "source": []
  }
 ],
 "metadata": {
  "kernelspec": {
   "display_name": "Python 3 (ipykernel)",
   "language": "python",
   "name": "python3"
  },
  "language_info": {
   "codemirror_mode": {
    "name": "ipython",
    "version": 3
   },
   "file_extension": ".py",
   "mimetype": "text/x-python",
   "name": "python",
   "nbconvert_exporter": "python",
   "pygments_lexer": "ipython3",
   "version": "3.9.12"
  }
 },
 "nbformat": 4,
 "nbformat_minor": 5
}
