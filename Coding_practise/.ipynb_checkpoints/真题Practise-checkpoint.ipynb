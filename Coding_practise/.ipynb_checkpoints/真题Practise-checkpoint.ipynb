{
 "cells": [
  {
   "cell_type": "markdown",
   "id": "5c481b2e",
   "metadata": {},
   "source": [
    "# GS.1\n",
    "### Array Game:\n",
    "\n",
    "Given an array of intergers, determine the number of moves to make all elements equal. Each move consists of choosing all but 1 element and incrementing their values by 1."
   ]
  },
  {
   "cell_type": "code",
   "execution_count": 83,
   "id": "ea43119e",
   "metadata": {},
   "outputs": [],
   "source": [
    "# Test case\n",
    "numbers = [3,4,6,6,3]"
   ]
  },
  {
   "cell_type": "code",
   "execution_count": 13,
   "id": "1bbbfc66",
   "metadata": {},
   "outputs": [],
   "source": [
    "def arraygame(numbers):\n",
    "    print(numbers)\n",
    "    count = 0\n",
    "    # When all value in the numbers are equal, the minimum = maximum\n",
    "    while min(numbers)!= max(numbers):\n",
    "        # Find the index of the largest number\n",
    "        index_to_fix = numbers.index(max(numbers))\n",
    "        for i in range(len(numbers)):\n",
    "            # If the i != the index of the largest number, add 1 (basically means add 1 to any other number, except the largest one)\n",
    "            if i != index_to_fix:\n",
    "                numbers[i] += 1\n",
    "        print(numbers)\n",
    "        count+=1\n",
    "        \n",
    "    return count\n",
    "              "
   ]
  },
  {
   "cell_type": "code",
   "execution_count": 85,
   "id": "772d3d7e",
   "metadata": {},
   "outputs": [
    {
     "name": "stdout",
     "output_type": "stream",
     "text": [
      "[3, 4, 6, 6, 3]\n",
      "[4, 5, 6, 7, 4]\n",
      "[5, 6, 7, 7, 5]\n",
      "[6, 7, 7, 8, 6]\n",
      "[7, 8, 8, 8, 7]\n",
      "[8, 8, 9, 9, 8]\n",
      "[9, 9, 9, 10, 9]\n",
      "[10, 10, 10, 10, 10]\n"
     ]
    },
    {
     "data": {
      "text/plain": [
       "7"
      ]
     },
     "execution_count": 85,
     "metadata": {},
     "output_type": "execute_result"
    }
   ],
   "source": [
    "arraygame(numbers)"
   ]
  },
  {
   "cell_type": "markdown",
   "id": "7b34921a",
   "metadata": {},
   "source": [
    "# GS.2\n",
    "### Divisibility of Strings\n",
    "\n",
    "Given two strings, s and t, create a function that operates per the following rules:\n",
    "\n",
    "1. Find whether string s is divisible by string t. String s divisible by string t if string t can be concatenated some number of times to obtain the string s.\n",
    "\n",
    "- If s is divisible, find the smallest string, u, such that it can be concatenated some number of times to obtain both s and t.\n",
    "\n",
    "- If it is not divisible, set the return value to -1.\n",
    "\n",
    "2. Return the length of the string u or -1"
   ]
  },
  {
   "cell_type": "code",
   "execution_count": 86,
   "id": "bbd10117",
   "metadata": {},
   "outputs": [],
   "source": [
    "# Test case\n",
    "s = 'abcdeabcde'\n",
    "t = 'abcde'"
   ]
  },
  {
   "cell_type": "code",
   "execution_count": 87,
   "id": "c2ed2e4a",
   "metadata": {},
   "outputs": [
    {
     "name": "stdout",
     "output_type": "stream",
     "text": [
      "abcde\n"
     ]
    },
    {
     "data": {
      "text/plain": [
       "5"
      ]
     },
     "execution_count": 87,
     "metadata": {},
     "output_type": "execute_result"
    }
   ],
   "source": [
    "def divisibilityOfString(s,t):\n",
    "    \n",
    "    # Check the length of both strings, if the length is not divisible, \n",
    "    # the string is definitely not divisible\n",
    "    if len(s)%len(t)!=0:\n",
    "        return -1\n",
    "\n",
    "    else:\n",
    "        # If the length is divisible, compute the length_ratio\n",
    "        length_ratio = len(s)/len(t)\n",
    "        \n",
    "        # If string t concatenates length_ratio times != string s\n",
    "        if t*int(length_ratio) != s:\n",
    "            # Not divisible\n",
    "            return -1\n",
    "        else:\n",
    "            \n",
    "            # Now we know it is divisible, we need to find the smallest string u, \n",
    "            # such that it can be concatenated some number of times to obtain both s and t.\n",
    "            for i in range(1, len(t)+1):\n",
    "                \n",
    "                # Unit is a fraction of the string t, if t = 'abc', unit will be 'a', 'ab', 'abc'\n",
    "                unit = t[:i]\n",
    "                \n",
    "                # Check the length of the string, if not divisible, len(t) % len(unit)!=0\n",
    "                if len(t) % len(unit) == 0:\n",
    "                    \n",
    "                    # Concatenate the unit 'int(len(t)/len(unit))' times to see whether it matches t\n",
    "                    if unit * int(len(t)/len(unit)) == t:\n",
    "                        \n",
    "                        # Print result \n",
    "                        print(unit)\n",
    "                        return len(unit)\n",
    "                    else:\n",
    "                        continue\n",
    "\n",
    "divisibilityOfString(s,t)"
   ]
  },
  {
   "cell_type": "markdown",
   "id": "f15705b8",
   "metadata": {},
   "source": [
    "## GS.3\n",
    "### Cardinality Sorting\n",
    "\n",
    "The binary cardinality of a number is the total number of 1's it contains in its binary representation. For example, the decimal integer 20base10 corresponds to the binary number 10100base2. There are 2 1's in the binary representation so its binary cardinality is 2.\n",
    "\n",
    "Given an array of decimal integers, sort it ascending first by binary cardinality, then by decimal value. Return the resulting array.\n",
    "\n",
    "Input = [1,2,3,4]\n",
    "\n",
    "array to return is [1,2,4,31."
   ]
  },
  {
   "cell_type": "code",
   "execution_count": 7,
   "id": "2c5ce47a",
   "metadata": {},
   "outputs": [
    {
     "name": "stdout",
     "output_type": "stream",
     "text": [
      "[1, 1, 2, 1, 2]\n"
     ]
    },
    {
     "data": {
      "text/plain": [
       "[1, 2, 4, 3, 3]"
      ]
     },
     "execution_count": 7,
     "metadata": {},
     "output_type": "execute_result"
    }
   ],
   "source": [
    "def cardinalitySort(nums):\n",
    "    binary_card = []\n",
    "    for i in nums:\n",
    "        binary = str(bin(i)) # Convert a number to a binary number and convert to a string\n",
    "        binary_card.append(binary.count('1')) # Count the number of 1s in the string\n",
    "    print(binary_card)\n",
    "\n",
    "    # y refers to binary_card, x refers to nums\n",
    "    # sorted(zip(binary_card, nums)) will sort based on binary_card ascendingly\n",
    "    result = [x for y, x in sorted(zip(binary_card, nums))]\n",
    "    return result\n",
    "   \n",
    "nums = [1,2,3,4,3] \n",
    "cardinalitySort(nums)"
   ]
  },
  {
   "cell_type": "code",
   "execution_count": 8,
   "id": "852831a0",
   "metadata": {},
   "outputs": [
    {
     "name": "stdout",
     "output_type": "stream",
     "text": [
      "This is the binary_card: [1, 1, 2, 1, 2]\n",
      "This is the nums: [1, 2, 3, 4, 3]\n",
      "[(1, 1), (1, 2), (1, 4), (2, 3), (2, 3)]\n",
      "[(1, 1), (2, 1), (3, 2), (3, 2), (4, 1)]\n"
     ]
    }
   ],
   "source": [
    "# Knowledge point\n",
    "binary_card = [1,1,2,1,2]\n",
    "nums = [1,2,3,4,3] \n",
    "print(f'This is the binary_card: {binary_card}')\n",
    "print(f'This is the nums: {nums}')\n",
    "print(sorted(zip(binary_card, nums)))\n",
    "print(sorted(zip(nums, binary_card)))"
   ]
  },
  {
   "cell_type": "markdown",
   "id": "5d8b45f4",
   "metadata": {},
   "source": [
    "## GS.4\n",
    "### Word Compression\n",
    "\n",
    "A student decides to perform some operations on big words to compress them, so they become easy to remember. An operation consists of choosing a group of K consecutive equal characters and removing them. The student keeps performing this operation as long as it is possible. Determine the final word after the operation is performed.\n",
    "\n",
    "Example:\n",
    "word = \"abbcccb\"\\\n",
    "k = 3\\\n",
    "Remove k = 3 characters 'C', now word = \"abbb\".\\\n",
    "Remove 3 characters b', so the final word is \"a\".\n"
   ]
  },
  {
   "cell_type": "code",
   "execution_count": 10,
   "id": "a1860934",
   "metadata": {},
   "outputs": [],
   "source": [
    "# Test case\n",
    "\n",
    "S = 'abbcccb'\n",
    "k = 3"
   ]
  },
  {
   "cell_type": "code",
   "execution_count": 11,
   "id": "f15a98fc",
   "metadata": {},
   "outputs": [],
   "source": [
    "# Code is developped in 5. Queue and stack\n",
    "# Check leetcode 1047\n",
    "\n",
    "def compressWord(word, k):\n",
    "    stack = [] # Define a stack using list\n",
    "    for i in word: # Iterate each letter in the string\n",
    "        stack.append(i) # Add the value to the stack first\n",
    "\n",
    "        # If the length of stack is greater than k, we can start checking for repeated elements, otherwise, keep appending new values\n",
    "        if len(stack)>= k:\n",
    "\n",
    "            # Select a unit, which is the last k elements from the stack, and put that in a set\n",
    "            unit = set(stack[-k:])\n",
    "            if len(unit) == 1: # that means all the numbers in the set are equal\n",
    "                for _ in range(k):\n",
    "                    stack.pop() # pop the stack k times\n",
    "\n",
    "    return ''.join(stack) # Join the list to a string\n"
   ]
  },
  {
   "cell_type": "code",
   "execution_count": 12,
   "id": "4d37b070",
   "metadata": {},
   "outputs": [
    {
     "name": "stdout",
     "output_type": "stream",
     "text": [
      "abbcccb 1 \n",
      "abbcccb 2 acb\n",
      "abbcccb 3 a\n",
      "abbcccb 4 abbcccb\n",
      "aaaab 4 b\n",
      "aaaabcccddddcf 4 bf\n"
     ]
    }
   ],
   "source": [
    "print(S, 1, compressWord(S,1))\n",
    "print(S, 2, compressWord(S,2))\n",
    "print(S, 3, compressWord(S,3))\n",
    "print(S, 4, compressWord(S,4))\n",
    "print('aaaab', 4, compressWord('aaaab',4))\n",
    "print('aaaabcccddddcf', 4, compressWord('aaaabcccddddcf',4))"
   ]
  },
  {
   "cell_type": "markdown",
   "id": "80a988d5",
   "metadata": {},
   "source": [
    "## JPM.1\n",
    "\n",
    "### Happy number\n",
    "A happy number is defined by the following process. Starting with any positive integer, replace the number by the sum of the squares of its digits, and repeat the process until the number equals 1 (where it will stay). or it loops endlessly in a cycle which does not include 1. Those numbers for which this process ends in 1 are happy numbers. while those that do not end in 1 are unhappy numbers.\n",
    "\n",
    "Input:\n",
    "\n",
    "Your program should read lines of text from standard input. Each line contains a single positive integer. N.\n",
    "\n",
    "Output:\n",
    "\n",
    "If the number is a happy number. print 1 to standard output.\n",
    "\n",
    "Otherwise, print 0.\n",
    "\n",
    "For the curious. here's why 7 is a happy number: 7-49->97->130->10->1. Here's why 22 is NOT a happy number: 22-8->64->52->29-85->89->145->42->20->94->16->37->58->89.\n"
   ]
  },
  {
   "cell_type": "code",
   "execution_count": 31,
   "id": "c02e3b17",
   "metadata": {},
   "outputs": [],
   "source": [
    "# Test case\n",
    "num = 22"
   ]
  },
  {
   "cell_type": "code",
   "execution_count": 36,
   "id": "97feff6c",
   "metadata": {},
   "outputs": [],
   "source": [
    "# 详情见3.hashmap_qns\n",
    "# leetcode 202\n",
    "\n",
    "class Solution:\n",
    "    def isHappy(self, n: int) -> bool:\n",
    "        def calculate_happy(num):\n",
    "            sum_ = 0\n",
    "            \n",
    "            # 从个位开始依次取，平方求和\n",
    "            while num: # While num is non-zero\n",
    "                sum_ += (num % 10) ** 2 \n",
    "                num = num // 10 # this is floor division, division and round down\n",
    "            return sum_\n",
    "\n",
    "        # 记录中间结果\n",
    "        record = set()\n",
    "\n",
    "        while True:\n",
    "            n = calculate_happy(n)\n",
    "            #print(n)\n",
    "            if n == 1:\n",
    "                print(1)\n",
    "                return True # Print 1 if it is a happy number\n",
    "            \n",
    "            # 如果中间结果重复出现，说明陷入死循环了，该数不是快乐数\n",
    "            if n in record:\n",
    "                print(0) # Print 0 if it is not a happy number\n",
    "                return False\n",
    "            else:\n",
    "                record.add(n)"
   ]
  },
  {
   "cell_type": "code",
   "execution_count": 37,
   "id": "844fe517",
   "metadata": {},
   "outputs": [
    {
     "name": "stdout",
     "output_type": "stream",
     "text": [
      "0\n"
     ]
    },
    {
     "data": {
      "text/plain": [
       "False"
      ]
     },
     "execution_count": 37,
     "metadata": {},
     "output_type": "execute_result"
    }
   ],
   "source": [
    "solution = Solution()\n",
    "solution.isHappy(22)"
   ]
  },
  {
   "cell_type": "markdown",
   "id": "a0f2939f",
   "metadata": {},
   "source": [
    "## JPM.2\n",
    "\n",
    "给定一个只包括 '('，')'，'{'，'}'，'['，']' 的字符串，判断字符串是否有效。\n",
    "\n",
    "有效字符串需满足：\n",
    "\n",
    "左括号必须用相同类型的右括号闭合。\n",
    "左括号必须以正确的顺序闭合。\n",
    "注意空字符串可被认为是有效字符串。\\\n",
    "示例 1:\n",
    "输入: \"()\"\n",
    "输出: true\n",
    "\n",
    "示例 2:\n",
    "输入: \"()[]{}\"\n",
    "输出: true\n"
   ]
  },
  {
   "cell_type": "code",
   "execution_count": 42,
   "id": "96523728",
   "metadata": {},
   "outputs": [],
   "source": [
    "# Test case\n",
    "\n",
    "test_input = ['()','([)]','{[()]}']"
   ]
  },
  {
   "cell_type": "code",
   "execution_count": 43,
   "id": "88d03d89",
   "metadata": {},
   "outputs": [
    {
     "name": "stdout",
     "output_type": "stream",
     "text": [
      "() Result: True\n",
      "([)] Result: False\n",
      "{[()]} Result: True\n"
     ]
    }
   ],
   "source": [
    "# Sample solution with 哈希表\n",
    "class Solution:\n",
    "    def validBracket(self, string):\n",
    "        stack = [] # Use a list as a stack\n",
    "        bracket_dict = {'(':')', '[':']','{':'}'}\n",
    "        \n",
    "        for i in string:\n",
    "            if i in bracket_dict: # Alternative way of writing: if i in bracket_dict.keys():\n",
    "                stack.append(bracket_dict[i])\n",
    "            elif not stack or stack[-1] != i: # if stack is not empty or the last element in the stack does not equal to i\n",
    "                return False\n",
    "            else:\n",
    "                stack.pop()\n",
    "        return True if not stack else False\n",
    "    \n",
    "solution = Solution()\n",
    "for i in test_input:\n",
    "    print(i, f'Result: {solution.validBracket(i)}')"
   ]
  },
  {
   "cell_type": "markdown",
   "id": "52072eb9",
   "metadata": {},
   "source": [
    "## JPM.3\n",
    "\n",
    "### Avocado Prices\n",
    "编程挑战说明:\\\n",
    "Consider a dataset containing the distribution of avocado prices across various regions over a specific time period.\n",
    "Given that dataset, calculate the following summary statistics:\n",
    "1. min - the minimum of the values\n",
    "2. max - the maximum of the values\n",
    "3. mean - the mean of the values\n",
    "4. std - a corrected sample standard deviation, that uses denominator n - 1\n",
    "\n",
    "输入: A dataset in CSV format with the avacado prices to summaizes, the dataset has the following columns: date, price, region\\\n",
    "输出: Print the summary statistics as four real numbers. Point each value on a separate line in the following order: min, max, mean, std\n",
    "\n",
    "min and max - 2 digits\\\n",
    "mean - 3 digits\\\n",
    "std = 4 digits\\\n",
    "Keep all trailig zeros in the result\n",
    "\n",
    "Rounding should be done to the nearest value using round half to even rule: if the number falls midway, it is rounded to the nearest value with an even least significant digit. For example, rounding to 3 digits after the decimal point 1.0135 becomes 1.014, as does 1.0145. This is the default behavior of the round function in Python, R, etc."
   ]
  },
  {
   "cell_type": "code",
   "execution_count": 196,
   "id": "a2d02ae4",
   "metadata": {},
   "outputs": [
    {
     "name": "stdout",
     "output_type": "stream",
     "text": [
      "1.014\n",
      "1.014\n",
      "1.014\n",
      "1.014\n"
     ]
    }
   ],
   "source": [
    "print(round(1.0135,3))\n",
    "print(round(1.0145,3))\n",
    "print('{:.3f}'.format(1.0135))\n",
    "print('{:.3f}'.format(1.0145))"
   ]
  },
  {
   "cell_type": "code",
   "execution_count": 179,
   "id": "6cb83110",
   "metadata": {},
   "outputs": [
    {
     "data": {
      "text/html": [
       "<div>\n",
       "<style scoped>\n",
       "    .dataframe tbody tr th:only-of-type {\n",
       "        vertical-align: middle;\n",
       "    }\n",
       "\n",
       "    .dataframe tbody tr th {\n",
       "        vertical-align: top;\n",
       "    }\n",
       "\n",
       "    .dataframe thead th {\n",
       "        text-align: right;\n",
       "    }\n",
       "</style>\n",
       "<table border=\"1\" class=\"dataframe\">\n",
       "  <thead>\n",
       "    <tr style=\"text-align: right;\">\n",
       "      <th></th>\n",
       "      <th>date</th>\n",
       "      <th>price</th>\n",
       "      <th>region</th>\n",
       "    </tr>\n",
       "  </thead>\n",
       "  <tbody>\n",
       "    <tr>\n",
       "      <th>0</th>\n",
       "      <td>2015-07-19</td>\n",
       "      <td>1.08</td>\n",
       "      <td>London</td>\n",
       "    </tr>\n",
       "    <tr>\n",
       "      <th>1</th>\n",
       "      <td>2015-08-16</td>\n",
       "      <td>1.05</td>\n",
       "      <td>Bristol</td>\n",
       "    </tr>\n",
       "    <tr>\n",
       "      <th>2</th>\n",
       "      <td>2015-04-05</td>\n",
       "      <td>1.10</td>\n",
       "      <td>Shanghai</td>\n",
       "    </tr>\n",
       "    <tr>\n",
       "      <th>3</th>\n",
       "      <td>2015-07-26</td>\n",
       "      <td>1.12</td>\n",
       "      <td>Beijing</td>\n",
       "    </tr>\n",
       "    <tr>\n",
       "      <th>4</th>\n",
       "      <td>2015-05-31</td>\n",
       "      <td>1.10</td>\n",
       "      <td>Jiaxing</td>\n",
       "    </tr>\n",
       "  </tbody>\n",
       "</table>\n",
       "</div>"
      ],
      "text/plain": [
       "         date  price    region\n",
       "0  2015-07-19   1.08    London\n",
       "1  2015-08-16   1.05   Bristol\n",
       "2  2015-04-05   1.10  Shanghai\n",
       "3  2015-07-26   1.12   Beijing\n",
       "4  2015-05-31   1.10   Jiaxing"
      ]
     },
     "execution_count": 179,
     "metadata": {},
     "output_type": "execute_result"
    }
   ],
   "source": [
    "# Sample test data\n",
    "import pandas as pd\n",
    "avocado = {'date': ['2015-07-19', '2015-08-16','2015-04-05','2015-07-26','2015-05-31'], \n",
    "           'price': [1.08,1.05,1.1,1.12,1.1], \n",
    "           'region':['London', 'Bristol', 'Shanghai','Beijing','Jiaxing']}\n",
    "df = pd.DataFrame(data=avocado)\n",
    "df"
   ]
  },
  {
   "cell_type": "code",
   "execution_count": 198,
   "id": "4a7a02db",
   "metadata": {},
   "outputs": [
    {
     "name": "stdout",
     "output_type": "stream",
     "text": [
      "1.05\n",
      "1.12\n",
      "1.090\n",
      "0.0265\n",
      "\n",
      "price    1.05\n",
      "Name: min, dtype: float64\n",
      "price    1.12\n",
      "Name: max, dtype: float64\n",
      "price    1.09\n",
      "Name: mean, dtype: float64\n",
      "price    0.0265\n",
      "Name: std, dtype: float64\n"
     ]
    }
   ],
   "source": [
    "df_stats = df.describe()\n",
    "\n",
    "# This method do not remove trailing zeros (good) # float(\"%.2f\" % 3.000)\n",
    "print('{:.2f}'.format(float(df_stats.loc['min'])))\n",
    "print('{:.2f}'.format(float(df_stats.loc['max'])))\n",
    "print('{:.3f}'.format(float(df_stats.loc['mean'])))\n",
    "print('{:.4f}'.format(float(df_stats.loc['std'])))\n",
    "print('')\n",
    "\n",
    "# This method removes trailing zeros (bad)\n",
    "min_ = round(df_stats.loc['min'],2)\n",
    "max_ = round(df_stats.loc['max'],2)\n",
    "mean_ = round(df_stats.loc['mean'],3)\n",
    "std_ = round(df_stats.loc['std'],4)\n",
    "print(min_)\n",
    "print(max_)\n",
    "print(mean_)\n",
    "print(std_)"
   ]
  },
  {
   "cell_type": "markdown",
   "id": "d9771113",
   "metadata": {},
   "source": [
    "## JD.1\n",
    "\n",
    "### 好子串\n",
    "\n",
    "小红拿到了一个字符串，她定义；若删除一个连续子串（不能是原字符串）后，剩下的部分拼接起来是回文串，那么该子串为“好子串”。\\\n",
    "小红想知道，这个字符串有多少个好子串？\n",
    "\n",
    "输入：一个字符串\\\n",
    "输出：好子串的数量"
   ]
  },
  {
   "cell_type": "code",
   "execution_count": 176,
   "id": "ace78489",
   "metadata": {},
   "outputs": [
    {
     "name": "stdout",
     "output_type": "stream",
     "text": [
      "abba\n",
      "aba\n",
      "aba\n",
      "aa\n",
      "a\n",
      "a\n"
     ]
    },
    {
     "data": {
      "text/plain": [
       "6"
      ]
     },
     "execution_count": 176,
     "metadata": {},
     "output_type": "execute_result"
    }
   ],
   "source": [
    "word = 'abcba'\n",
    "\n",
    "def good_string(word):\n",
    "    \n",
    "    # 检查是不是回文串\n",
    "    def check(word):\n",
    "        left, right = 0, len(word)-1\n",
    "        while left < right:\n",
    "            if word[left] == word[right]:\n",
    "                left += 1\n",
    "                right -= 1\n",
    "            else:\n",
    "                return False\n",
    "        return True\n",
    "    \n",
    "    i = 0 # 定义一个指针\n",
    "    unit_length = 1 # 定义连续子串的长度，从1开始\n",
    "    count = 0 # 数好子串的个数\n",
    "    \n",
    "    # 当i指针小于字符串的长度，连续子串的长度也小于字符串的长度\n",
    "    while i < len(word) and unit_length < len(word):\n",
    "        \n",
    "        # 如果i+连续子串的长度 < 字符串的长度\n",
    "        if i + unit_length <= len(word): \n",
    "            # Unit为原字符串中删除连续子串后，剩下的拼接部分\n",
    "            unit = word[:i] + word[i+unit_length:]\n",
    "            \n",
    "            # 如果unit是回文串，count+1\n",
    "            if check(unit):\n",
    "                count+=1\n",
    "                print(unit)\n",
    "                \n",
    "            # check完之后 i+1, unit_length保持恒定\n",
    "            i += 1\n",
    "            \n",
    "            # 当unit length为1的时候，如果word = 'abc', i 可以等于0,1,2, 为a,b,c. 当i = 3的时候结束，遍历结束，i归0\n",
    "            # 当unit length为2的时候，如果word = 'abc', i 可以等于0,1, 为ab, bc. 当i = 2的时候结束，遍历结束，i归0\n",
    "            # 以此类推...\n",
    "            if i == len(word)-(unit_length-1):\n",
    "                i = 0 # i需要在遍历到底之后归0\n",
    "                unit_length += 1 # unit length + 1\n",
    "    return count\n",
    "            \n",
    "good_string(word)          "
   ]
  },
  {
   "cell_type": "code",
   "execution_count": null,
   "id": "49c71c1f",
   "metadata": {},
   "outputs": [],
   "source": []
  }
 ],
 "metadata": {
  "kernelspec": {
   "display_name": "Python 3 (ipykernel)",
   "language": "python",
   "name": "python3"
  },
  "language_info": {
   "codemirror_mode": {
    "name": "ipython",
    "version": 3
   },
   "file_extension": ".py",
   "mimetype": "text/x-python",
   "name": "python",
   "nbconvert_exporter": "python",
   "pygments_lexer": "ipython3",
   "version": "3.9.12"
  }
 },
 "nbformat": 4,
 "nbformat_minor": 5
}
