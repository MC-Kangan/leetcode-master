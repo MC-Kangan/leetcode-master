{
 "cells": [
  {
   "cell_type": "markdown",
   "id": "ff579b49",
   "metadata": {},
   "source": [
    "## Challenging questions:\n",
    "\n",
    "Round 1:  232, 225, 20, 239, 347"
   ]
  },
  {
   "cell_type": "code",
   "execution_count": 134,
   "id": "79a98932",
   "metadata": {},
   "outputs": [
    {
     "name": "stdout",
     "output_type": "stream",
     "text": [
      "c\n",
      "['a', 'b']\n",
      "\n",
      "deque([1, 2, 3])\n",
      "Element poped from the left: 1\n",
      "deque([2, 3])\n",
      "Element poped from the right: 3\n",
      "deque([2])\n",
      "\n",
      "256\n",
      "2048\n",
      "\n",
      "[(3, 'b'), (2, 'a'), (1, 'c')]\n",
      "[(3, 2, 1), ('b', 'a', 'c')]\n",
      "\n",
      "[1, 2, 3, 5, 6, 8, 7]\n",
      "[2, 5, 3, 7, 6, 8]\n",
      "[2, 5, 3, 7, 6, 8, 4]\n",
      "2\n",
      "3\n",
      "4\n",
      "[5, 6, 8, 7]\n"
     ]
    }
   ],
   "source": [
    "# Knowledge point\n",
    "\n",
    "# 1. pop: return and remove the last element \n",
    "a = ['a','b','c']\n",
    "print(a.pop()) # Return and remove the element\n",
    "print(a)\n",
    "print('')\n",
    "\n",
    "# 2. Deque in python\n",
    "from collections import deque\n",
    "que = deque()\n",
    "que.append(1)\n",
    "que.append(2)\n",
    "que.append(3)\n",
    "print(que)\n",
    "print(f'Element poped from the left: {que.popleft()}')\n",
    "print(que)\n",
    "print(f'Element poped from the right: {que.pop()}')\n",
    "print(que)\n",
    "print('')\n",
    "\n",
    "# 3. eval\n",
    "# Python’s eval() allows you to evaluate arbitrary Python expressions from a string-based or compiled-code-based input. \n",
    "# This function can be handy when you’re trying to dynamically evaluate Python expressions from any input that comes as a string or a compiled code object.\n",
    "print(eval(\"2 ** 8\"))\n",
    "print(eval(\"1024 + 1024\"))\n",
    "print('')\n",
    "\n",
    "\n",
    "# 4. Zip and unzip\n",
    "a = {'a':2,'b':3,'c':1}\n",
    "# Sort based on the dictionary value\n",
    "sorted_lst = sorted(zip(a.values(),a.keys()), reverse=True)\n",
    "print(sorted_lst)\n",
    "# Unzip\n",
    "print(list(zip(*sorted_lst)))\n",
    "print('')\n",
    "\n",
    "\n",
    "# 5. Heap and priority queue\n",
    "# 堆是一棵完全二叉树，树中每个结点的值都不小于（或不大于）其左右孩子的值。 如果父亲结点是大于等于左右孩子就是大顶堆，小于等于左右孩子就是小顶堆。\n",
    "# See notion page for full info\n",
    "\n",
    "# Heaps are concrete data structures, whereas priority queues are abstract data structures. \n",
    "# An abstract data structure determines the interface, while a concrete data structure defines the implementation.\n",
    "\n",
    "import heapq # Python heapq make sure the smallest item to be on the root (top) of the heap! 默认小顶堆\n",
    "# The parent node is always smaller than the children nodes\n",
    "a = [3, 5, 1, 2, 6, 8, 7]\n",
    "heapq.heapify(a) # this method heapify the list in place (NOTE: Heapify DOES NOT SORT!!!)\n",
    "print(a)\n",
    "\n",
    "heapq.heappop(a) # Heap pop will remove the smallest element in the heap, which is the root, and re-structure the heap\n",
    "print(a)\n",
    "\n",
    "heapq.heappush(a, 4) # The Python heapq module also includes heappush() for pushing an element to the heap while preserving the heap property.\n",
    "print(a)\n",
    "print(heapq.heappop(a)) # Always find the smallest element and pop it\n",
    "print(heapq.heappop(a))\n",
    "print(heapq.heappop(a))\n",
    "print(a)"
   ]
  },
  {
   "cell_type": "markdown",
   "id": "9ca8deac",
   "metadata": {},
   "source": [
    "### 232.用栈实现队列\n",
    "使用栈实现队列的下列操作：\n",
    "\n",
    "push(x) -- 将一个元素放入队列的尾部。\n",
    "\n",
    "pop() -- 从队列首部移除元素。\n",
    "\n",
    "peek() -- 返回队列首部的元素。\n",
    "\n",
    "empty() -- 返回队列是否为空。"
   ]
  },
  {
   "cell_type": "code",
   "execution_count": 2,
   "id": "6a12fa06",
   "metadata": {},
   "outputs": [],
   "source": [
    "# Sample solution\n",
    "# Queue 先进先出\n",
    "class MyQueue:\n",
    "\n",
    "    def __init__(self):\n",
    "        \"\"\"\n",
    "        in主要负责push，out主要负责pop\n",
    "        \"\"\"\n",
    "        self.stack_in = [] # Use list to make the queue\n",
    "        self.stack_out = []\n",
    "\n",
    "\n",
    "    def push(self, x: int) -> None:\n",
    "        \"\"\"\n",
    "        有新元素进来，就往in里面push\n",
    "        \"\"\"\n",
    "        self.stack_in.append(x)\n",
    "\n",
    "\n",
    "    def pop(self) -> int:\n",
    "        \"\"\"\n",
    "        Removes the element from in front of queue and returns that element.\n",
    "        \"\"\"\n",
    "        if self.empty():\n",
    "            return None\n",
    "        \n",
    "        if self.stack_out:\n",
    "            return self.stack_out.pop()\n",
    "        else:\n",
    "            for i in range(len(self.stack_in)):\n",
    "                self.stack_out.append(self.stack_in.pop())\n",
    "            return self.stack_out.pop()\n",
    "        \n",
    "    def peek(self) -> int:\n",
    "        \"\"\"\n",
    "        Get the front element.\n",
    "        \"\"\"\n",
    "        ans = self.pop()\n",
    "        self.stack_out.append(ans)\n",
    "        return ans\n",
    "\n",
    "\n",
    "    def empty(self) -> bool:\n",
    "        \"\"\"\n",
    "        只要in或者out有元素，说明队列不为空\n",
    "        \"\"\"\n",
    "        return not (self.stack_in or self.stack_out)\n"
   ]
  },
  {
   "cell_type": "code",
   "execution_count": 19,
   "id": "8f0c5c19",
   "metadata": {},
   "outputs": [
    {
     "name": "stdout",
     "output_type": "stream",
     "text": [
      "1\n",
      "2\n",
      "False\n",
      "2\n",
      "3\n"
     ]
    }
   ],
   "source": [
    "# Test\n",
    "myqueue = MyQueue()\n",
    "myqueue.push(1)\n",
    "myqueue.push(2)\n",
    "myqueue.push(3)\n",
    "print(myqueue.pop())\n",
    "print(myqueue.peek())\n",
    "print(myqueue.empty())\n",
    "myqueue.push(4)\n",
    "print(myqueue.pop())\n",
    "print(myqueue.peek())"
   ]
  },
  {
   "cell_type": "code",
   "execution_count": 22,
   "id": "523a843c",
   "metadata": {},
   "outputs": [
    {
     "name": "stdout",
     "output_type": "stream",
     "text": [
      "Stack_in is []\n",
      "Stack_out is [3, 2, 1]\n"
     ]
    }
   ],
   "source": [
    "# To better visualise how stack_in and stack_out work\n",
    "stack_in = [1,2,3]\n",
    "stack_out = []\n",
    "for _ in range(len(stack_in)):\n",
    "    stack_out.append(stack_in.pop()) # pop will start removing and returning from the last element\n",
    "print(f'Stack_in is {stack_in}')\n",
    "print(f'Stack_out is {stack_out}')"
   ]
  },
  {
   "cell_type": "markdown",
   "id": "01c81c9e",
   "metadata": {},
   "source": [
    "### 225. 用队列实现栈\n",
    "使用队列实现栈的下列操作：\n",
    "\n",
    "push(x) -- 元素 x 入栈\\\n",
    "pop() -- 移除栈顶元素\\\n",
    "top() -- 获取栈顶元素\\\n",
    "empty() -- 返回栈是否为空\n"
   ]
  },
  {
   "cell_type": "code",
   "execution_count": 23,
   "id": "8c26ea24",
   "metadata": {},
   "outputs": [],
   "source": [
    "# Sample solution 1\n",
    "from collections import deque\n",
    "\n",
    "class MyStack:\n",
    "\n",
    "    def __init__(self):\n",
    "        \"\"\"\n",
    "        Python普通的Queue或SimpleQueue没有类似于peek的功能\n",
    "        也无法用索引访问，在实现top的时候较为困难。\n",
    "\n",
    "        用list可以，但是在使用pop(0)的时候时间复杂度为O(n)\n",
    "        因此这里使用双向队列，我们保证只执行popleft()和append()，因为deque可以用索引访问，可以实现和peek相似的功能\n",
    "\n",
    "        in - 存所有数据\n",
    "        out - 仅在pop的时候会用到\n",
    "        \"\"\"\n",
    "        self.queue_in = deque()\n",
    "        self.queue_out = deque()\n",
    "\n",
    "    def push(self, x: int) -> None:\n",
    "        \"\"\"\n",
    "        直接append即可\n",
    "        \"\"\"\n",
    "        self.queue_in.append(x)\n",
    "\n",
    "\n",
    "    def pop(self) -> int:\n",
    "        \"\"\"\n",
    "        1. 首先确认不空\n",
    "        2. 因为队列的特殊性，FIFO，所以我们只有在pop()的时候才会使用queue_out\n",
    "        3. 先把queue_in中的所有元素（除了最后一个），依次出列放进queue_out\n",
    "        4. 交换in和out，此时out里只有一个元素\n",
    "        5. 把out中的pop出来，即是原队列的最后一个\n",
    "        \n",
    "        tip：这不能像栈实现队列一样，因为另一个queue也是FIFO，如果执行pop()它不能像\n",
    "        stack一样从另一个pop()，所以干脆in只用来存数据，pop()的时候两个进行交换\n",
    "        \"\"\"\n",
    "        if self.empty():\n",
    "            return None\n",
    "\n",
    "        for i in range(len(self.queue_in) - 1):\n",
    "            self.queue_out.append(self.queue_in.popleft())\n",
    "        \n",
    "        self.queue_in, self.queue_out = self.queue_out, self.queue_in    # 交换in和out，这也是为啥in只用来存\n",
    "        return self.queue_out.popleft()\n",
    "\n",
    "    def top(self) -> int:\n",
    "        \"\"\"\n",
    "        1. 首先确认不空\n",
    "        2. 我们仅有in会存放数据，所以返回第一个即可\n",
    "        \"\"\"\n",
    "        if self.empty():\n",
    "            return None\n",
    "        \n",
    "        return self.queue_in[-1]\n",
    "    \n",
    "    def empty(self) -> bool:\n",
    "        \"\"\"\n",
    "        因为只有in存了数据，只要判断in是不是有数即可\n",
    "        \"\"\"\n",
    "        return len(self.queue_in) == 0\n",
    "    "
   ]
  },
  {
   "cell_type": "code",
   "execution_count": 24,
   "id": "cfc54838",
   "metadata": {},
   "outputs": [],
   "source": [
    "# Sample solution 2(better! using only one queue)\n",
    "# 详情请看讲解\n",
    "\n",
    "from collections import deque\n",
    "\n",
    "class MyStack:\n",
    "\n",
    "    def __init__(self):\n",
    "        self.que = deque()\n",
    "\n",
    "    def push(self, x: int) -> None:\n",
    "        self.que.append(x)\n",
    "\n",
    "    def pop(self) -> int:\n",
    "        if self.empty():\n",
    "            return None\n",
    "        # 把n-1个element从队列里拿出来，再放回队列\n",
    "        for i in range(len(self.que)-1):\n",
    "            self.que.append(self.que.popleft())\n",
    "        return self.que.popleft()\n",
    "\n",
    "    def top(self) -> int:\n",
    "        if self.empty():\n",
    "            return None\n",
    "        return self.que[-1]\n",
    "\n",
    "    def empty(self) -> bool:\n",
    "        return not self.que"
   ]
  },
  {
   "cell_type": "markdown",
   "id": "53aaf5c5",
   "metadata": {},
   "source": [
    "#### Deque in Python\n",
    "\n",
    "https://www.geeksforgeeks.org/deque-in-python/\n",
    "\n",
    "Deque (Doubly Ended Queue) in Python is implemented using the module “collections“. Deque is preferred over a list in the cases where we need quicker append and pop operations from both the ends of the container, as deque provides an O(1) time complexity for append and pop operations as compared to a list that provides O(n) time complexity."
   ]
  },
  {
   "cell_type": "code",
   "execution_count": 32,
   "id": "5d3f53ed",
   "metadata": {},
   "outputs": [
    {
     "name": "stdout",
     "output_type": "stream",
     "text": [
      "deque([1, 2, 3])\n",
      "Element poped from the left: 1\n",
      "deque([2, 3])\n",
      "Element poped from the right: 3\n",
      "deque([2])\n"
     ]
    }
   ],
   "source": [
    "from collections import deque\n",
    "que = deque()\n",
    "que.append(1)\n",
    "que.append(2)\n",
    "que.append(3)\n",
    "print(que)\n",
    "print(f'Element poped from the left: {que.popleft()}')\n",
    "print(que)\n",
    "print(f'Element poped from the right: {que.pop()}')\n",
    "print(que)"
   ]
  },
  {
   "cell_type": "markdown",
   "id": "62b848f6",
   "metadata": {},
   "source": [
    "### 20. 有效的括号\n",
    "给定一个只包括 '('，')'，'{'，'}'，'['，']' 的字符串，判断字符串是否有效。\n",
    "\n",
    "有效字符串需满足：\n",
    "\n",
    "左括号必须用相同类型的右括号闭合。\n",
    "左括号必须以正确的顺序闭合。\n",
    "注意空字符串可被认为是有效字符串。\\\n",
    "示例 1:\n",
    "输入: \"()\"\n",
    "输出: true\n",
    "\n",
    "示例 2:\n",
    "输入: \"()[]{}\"\n",
    "输出: true\n",
    "\n",
    "示例 3:\n",
    "输入: \"(]\"\n",
    "输出: false\n",
    "\n",
    "示例 4:\n",
    "输入: \"([)]\"\n",
    "输出: false\n",
    "\n",
    "示例 5:\n",
    "输入: \"{[]}\"\n",
    "输出: true"
   ]
  },
  {
   "cell_type": "code",
   "execution_count": 43,
   "id": "83142c70",
   "metadata": {},
   "outputs": [],
   "source": [
    "# Test case\n",
    "\n",
    "test_input = ['()','()[]{}','(]','([)]','{[]}']"
   ]
  },
  {
   "cell_type": "code",
   "execution_count": 44,
   "id": "14fb2abc",
   "metadata": {},
   "outputs": [
    {
     "name": "stdout",
     "output_type": "stream",
     "text": [
      "() Result: True\n",
      "()[]{} Result: True\n",
      "(] Result: False\n",
      "([)] Result: False\n",
      "{[]} Result: True\n"
     ]
    }
   ],
   "source": [
    "# Sample solution.1 用list做stack\n",
    "# 由于栈结构的特殊性，非常适合做对称匹配类的题目。\n",
    "class Solution:\n",
    "    def validBracket(self, string):\n",
    "        stack = [] # Use a list as a stack\n",
    "        # for the bracket to complete, it must start with a left bracket: (, {, [, otherwise, it will never be complete\n",
    "        for i in string:\n",
    "            if i == '(':\n",
    "                stack.append(')')\n",
    "            elif i == '[':\n",
    "                stack.append(']')\n",
    "            elif i == '{':\n",
    "                stack.append('}')\n",
    "            elif not stack or stack[-1] != i: # if stack is not empty or the last element in the stack does not equal to i\n",
    "                return False\n",
    "            else:\n",
    "                stack.pop()\n",
    "        return True if not stack else False\n",
    "    \n",
    "\n",
    "solution = Solution()\n",
    "for i in test_input:\n",
    "    print(i, f'Result: {solution.validBracket(i)}')\n"
   ]
  },
  {
   "cell_type": "code",
   "execution_count": 46,
   "id": "4149f86e",
   "metadata": {},
   "outputs": [
    {
     "name": "stdout",
     "output_type": "stream",
     "text": [
      "() Result: True\n",
      "()[]{} Result: True\n",
      "(] Result: False\n",
      "([)] Result: False\n",
      "{[]} Result: True\n"
     ]
    }
   ],
   "source": [
    "# Sample solution with 哈希表\n",
    "class Solution:\n",
    "    def validBracket(self, string):\n",
    "        stack = [] # Use a list as a stack\n",
    "        bracket_dict = {'(':')', '[':']','{':'}'}\n",
    "        \n",
    "        for i in string:\n",
    "            if i in bracket_dict: # Alternative way of writing: if i in bracket_dict.keys():\n",
    "                stack.append(bracket_dict[i])\n",
    "            elif not stack or stack[-1] != i: # if stack is not empty or the last element in the stack does not equal to i\n",
    "                return False\n",
    "            else:\n",
    "                stack.pop()\n",
    "        return True if not stack else False\n",
    "    \n",
    "solution = Solution()\n",
    "for i in test_input:\n",
    "    print(i, f'Result: {solution.validBracket(i)}')"
   ]
  },
  {
   "cell_type": "markdown",
   "id": "d83cec4a",
   "metadata": {},
   "source": [
    "### 1047. 删除字符串中的所有相邻重复项\n",
    "给出由小写字母组成的字符串 S，重复项删除操作会选择两个相邻且相同的字母，并删除它们。\n",
    "\n",
    "在 S 上反复执行重复项删除操作，直到无法继续删除。\n",
    "\n",
    "在完成所有重复项删除操作后返回最终的字符串。答案保证唯一。\n",
    "\n",
    "示例：\n",
    "\n",
    "输入：\"abbaca\"\n",
    "输出：\"ca\"\n",
    "解释：例如，在 \"abbaca\" 中，我们可以删除 \"bb\" 由于两字母相邻且相同，这是此时唯一可以执行删除操作的重复项。之后我们得到字符串 \"aaca\"，其中又只有 \"aa\" 可以执行重复项删除操作，所以最后的字符串为 \"ca\"。\n",
    "提示：\n",
    "\n",
    "1 <= S.length <= 20000\n",
    "S 仅由小写英文字母组成。"
   ]
  },
  {
   "cell_type": "code",
   "execution_count": 57,
   "id": "02e4d668",
   "metadata": {},
   "outputs": [],
   "source": [
    "# Test case\n",
    "\n",
    "S = 'abbaccacdhhd'"
   ]
  },
  {
   "cell_type": "code",
   "execution_count": 58,
   "id": "6435187f",
   "metadata": {},
   "outputs": [
    {
     "data": {
      "text/plain": [
       "'ac'"
      ]
     },
     "execution_count": 58,
     "metadata": {},
     "output_type": "execute_result"
    }
   ],
   "source": [
    "# My solution\n",
    "class Solution:\n",
    "    def deleteRepeat(self, S):\n",
    "        stack = [] # Define a stack using list\n",
    "        for i in S: # Iterate each letter in the string\n",
    "            # If the string is not empty and i equals to the last element in the list\n",
    "            if stack and i == stack[-1]:\n",
    "                stack.pop() # That means we found the 相邻重复项，we pop the last element in the list\n",
    "            else: # Else, append element to the stack list\n",
    "                stack.append(i)\n",
    "        return ''.join(stack) # Join the list to a string\n",
    "    \n",
    "solution = Solution()\n",
    "solution.deleteRepeat(S)"
   ]
  },
  {
   "cell_type": "markdown",
   "id": "c3c075ba",
   "metadata": {},
   "source": [
    "同样的题目如果需要specify相邻重复项的长度k (见真题notebook GS.4)\n",
    "\n",
    "Example: word = \"abbcccb\"\\\n",
    "k = 3\\\n",
    "Remove k = 3 characters 'C', now word = \"abbb\".\\\n",
    "Remove 3 characters b', so the final word is \"a\"."
   ]
  },
  {
   "cell_type": "code",
   "execution_count": 66,
   "id": "e348bd66",
   "metadata": {},
   "outputs": [],
   "source": [
    "# Test case\n",
    "S = \"abbcccb\"\n",
    "k = 3"
   ]
  },
  {
   "cell_type": "code",
   "execution_count": 75,
   "id": "cfd25c9a",
   "metadata": {},
   "outputs": [
    {
     "name": "stdout",
     "output_type": "stream",
     "text": [
      "abbcccb 1 \n",
      "abbcccb 2 acb\n",
      "abbcccb 3 a\n",
      "abbcccb 4 abbcccb\n",
      "aaaab 4 b\n",
      "aaaabcccddddcf 4 bf\n"
     ]
    }
   ],
   "source": [
    "# My solution\n",
    "class Solution:\n",
    "    def deleteRepeatWithK(self, S, k):\n",
    "        stack = [] # Define a stack using list\n",
    "        for i in S: # Iterate each letter in the string\n",
    "            stack.append(i) # Add the value to the stack first\n",
    "            \n",
    "            # If the length of stack is greater than k, we can start checking for repeated elements, otherwise, keep appending new values\n",
    "            if len(stack)>= k:\n",
    "                \n",
    "                # Select a unit, which is the last k elements from the stack, and put that in a set\n",
    "                unit = set(stack[-k:])\n",
    "                if len(unit) == 1: # that means all the numbers in the set are equal\n",
    "                    for _ in range(k):\n",
    "                        stack.pop() # pop the stack k times\n",
    "                \n",
    "        return ''.join(stack) # Join the list to a string\n",
    "    \n",
    "solution = Solution()\n",
    "print(S, 1, solution.deleteRepeatWithK(S,1))\n",
    "print(S, 2, solution.deleteRepeatWithK(S,2))\n",
    "print(S, 3, solution.deleteRepeatWithK(S,3))\n",
    "print(S, 4, solution.deleteRepeatWithK(S,4))\n",
    "print('aaaab', 4, solution.deleteRepeatWithK('aaaab',4))\n",
    "print('aaaabcccddddcf', 4, solution.deleteRepeatWithK('aaaabcccddddcf',4))"
   ]
  },
  {
   "cell_type": "markdown",
   "id": "8e4db9c2",
   "metadata": {},
   "source": [
    "### 150. 逆波兰表达式求值\n",
    "\n",
    "根据 逆波兰表示法，求表达式的值。\n",
    "\n",
    "有效的运算符包括 + ,  - ,  * ,  / 。每个运算对象可以是整数，也可以是另一个逆波兰表达式。\n",
    "\n",
    "说明：\n",
    "\n",
    "整数除法只保留整数部分。 给定逆波兰表达式总是有效的。换句话说，表达式总会得出有效数值且不存在除数为 0 的情况。\n",
    "\n",
    "输入: [\"2\", \"1\", \"+\", \"3\", \" * \"]\\\n",
    "输出: 9\\\n",
    "解释: 该算式转化为常见的中缀算术表达式为：((2 + 1) * 3) = 9"
   ]
  },
  {
   "cell_type": "code",
   "execution_count": 85,
   "id": "8bb685c4",
   "metadata": {},
   "outputs": [],
   "source": [
    "# Test case\n",
    "#expression = [\"2\", \"1\", \"+\", \"3\", \"*\"]\n",
    "expression = [\"4\", \"13\", \"5\", \"/\", \"+\"]"
   ]
  },
  {
   "cell_type": "code",
   "execution_count": 86,
   "id": "d80b0122",
   "metadata": {},
   "outputs": [
    {
     "data": {
      "text/plain": [
       "6"
      ]
     },
     "execution_count": 86,
     "metadata": {},
     "output_type": "execute_result"
    }
   ],
   "source": [
    "# My solution, after watching the video tutorial\n",
    "class Solution:\n",
    "    def expression(self, expression):\n",
    "        stack = []\n",
    "        for i in expression:\n",
    "            if i == '+':\n",
    "                result = int(stack[-2]) + int(stack[-1])\n",
    "                stack.pop()\n",
    "                stack.pop()\n",
    "                stack.append(result)\n",
    "            \n",
    "            elif i == '-':\n",
    "                result = int(stack[-2]) - int(stack[-1])\n",
    "                stack.pop()\n",
    "                stack.pop()\n",
    "                stack.append(result)\n",
    "            \n",
    "            elif i == '*':\n",
    "                result = int(stack[-2]) * int(stack[-1])\n",
    "                stack.pop()\n",
    "                stack.pop()\n",
    "                stack.append(result)\n",
    "                \n",
    "            elif i == '/':\n",
    "                result = int(stack[-2]) / int(stack[-1])\n",
    "                stack.pop()\n",
    "                stack.pop()\n",
    "                stack.append(result)\n",
    "                \n",
    "            else:\n",
    "                stack.append(i)\n",
    "        return stack[0]\n",
    "    \n",
    "\n",
    "solution = Solution()\n",
    "solution.expression(expression)"
   ]
  },
  {
   "cell_type": "code",
   "execution_count": 89,
   "id": "3fc049e0",
   "metadata": {},
   "outputs": [
    {
     "data": {
      "text/plain": [
       "6"
      ]
     },
     "execution_count": 89,
     "metadata": {},
     "output_type": "execute_result"
    }
   ],
   "source": [
    "# Sample solution\n",
    "\n",
    "# Python’s eval() allows you to evaluate arbitrary Python expressions from a string-based or compiled-code-based input. \n",
    "# This function can be handy when you’re trying to dynamically evaluate Python expressions from any input that comes as a string or a compiled code object.\n",
    "\n",
    "class Solution:\n",
    "    def evalRPN(self, tokens: list[str]) -> int:\n",
    "        stack = []\n",
    "        for item in tokens:\n",
    "            if item not in {\"+\", \"-\", \"*\", \"/\"}:\n",
    "                stack.append(item)\n",
    "            else:\n",
    "                first_num, second_num = stack.pop(), stack.pop()\n",
    "                stack.append(\n",
    "                    int(eval(f'{second_num} {item} {first_num}'))   # 第一个出来的在运算符后面\n",
    "                )\n",
    "        return int(stack.pop()) # 如果一开始只有一个数，那么会是字符串形式的\n",
    "    \n",
    "solution = Solution()\n",
    "solution.evalRPN(expression)"
   ]
  },
  {
   "cell_type": "markdown",
   "id": "f6731349",
   "metadata": {},
   "source": [
    "### 239. 滑动窗口最大值\n",
    "\n",
    "给定一个数组 nums，有一个大小为 k 的滑动窗口从数组的最左侧移动到数组的最右侧。你只可以看到在滑动窗口内的 k 个数字。滑动窗口每次只向右移动一位。\n",
    "\n",
    "返回滑动窗口中的最大值。\n",
    "\n",
    "进阶：\n",
    "\n",
    "你能在线性时间复杂度内解决此题吗？"
   ]
  },
  {
   "cell_type": "code",
   "execution_count": 100,
   "id": "460b0fa3",
   "metadata": {},
   "outputs": [],
   "source": [
    "# Test case\n",
    "nums = [1,3,-1,-3,5,3,6,7]\n",
    "k = 4\n",
    "\n",
    "# expected [3,3,5,5,6,7]"
   ]
  },
  {
   "cell_type": "code",
   "execution_count": 104,
   "id": "30dd3fb5",
   "metadata": {},
   "outputs": [
    {
     "name": "stdout",
     "output_type": "stream",
     "text": [
      "[1, 3, -1, -3] 3\n",
      "[3, -1, -3, 5] 5\n",
      "[-1, -3, 5, 3] 5\n",
      "[-3, 5, 3, 6] 6\n",
      "[5, 3, 6, 7] 7\n"
     ]
    },
    {
     "data": {
      "text/plain": [
       "[3, 5, 5, 6, 7]"
      ]
     },
     "execution_count": 104,
     "metadata": {},
     "output_type": "execute_result"
    }
   ],
   "source": [
    "# My solution (O(n*k))\n",
    "\n",
    "class Solution:\n",
    "    def sliderMax(self, nums, k):\n",
    "        i = 0\n",
    "        result = []\n",
    "        while i + k <= len(nums):\n",
    "            # Slice a unit\n",
    "            unit = nums[i:i+k]\n",
    "            result.append(max(unit))\n",
    "            print(unit, max(unit))\n",
    "            i += 1\n",
    "        return result\n",
    "            \n",
    "        \n",
    "solution = Solution()\n",
    "solution.sliderMax(nums,k)"
   ]
  },
  {
   "cell_type": "code",
   "execution_count": 105,
   "id": "fdafab35",
   "metadata": {},
   "outputs": [
    {
     "data": {
      "text/plain": [
       "[3, 5, 5, 6, 7]"
      ]
     },
     "execution_count": 105,
     "metadata": {},
     "output_type": "execute_result"
    }
   ],
   "source": [
    "# Sample solution (线性时间复杂度)\n",
    "\n",
    "class MyQueue: #单调队列（从大到小\n",
    "    def __init__(self):\n",
    "        self.queue = [] #使用list来实现单调队列\n",
    "    \n",
    "    #每次弹出的时候，比较当前要弹出的数值是否等于队列出口元素的数值，如果相等则弹出。\n",
    "    #同时pop之前判断队列当前是否为空。\n",
    "    def pop(self, value):\n",
    "        if self.queue and value == self.queue[0]:\n",
    "            self.queue.pop(0)#list.pop()时间复杂度为O(n),这里可以使用collections.deque()\n",
    "            \n",
    "    #如果push的数值大于入口元素的数值，那么就将队列后端的数值弹出，直到push的数值小于等于队列入口元素的数值为止。\n",
    "    #这样就保持了队列里的数值是单调从大到小的了。\n",
    "    def push(self, value):\n",
    "        while self.queue and value > self.queue[-1]:\n",
    "            self.queue.pop()\n",
    "        self.queue.append(value)\n",
    "        \n",
    "    #查询当前队列里的最大值 直接返回队列前端也就是front就可以了。\n",
    "    def front(self):\n",
    "        return self.queue[0]\n",
    "    \n",
    "class Solution:\n",
    "    def maxSlidingWindow(self, nums: list[int], k: int) -> list[int]:\n",
    "        que = MyQueue()\n",
    "        result = []\n",
    "        for i in range(k): #先将前k的元素放进队列\n",
    "            que.push(nums[i])\n",
    "        result.append(que.front()) #result 记录前k的元素的最大值\n",
    "        for i in range(k, len(nums)):\n",
    "            que.pop(nums[i - k]) #滑动窗口移除最前面元素\n",
    "            que.push(nums[i]) #滑动窗口前加入最后面的元素\n",
    "            result.append(que.front()) #记录对应的最大值\n",
    "        return result\n",
    "    \n",
    "solution = Solution()\n",
    "solution.maxSlidingWindow(nums,k)"
   ]
  },
  {
   "cell_type": "markdown",
   "id": "ff0264c4",
   "metadata": {},
   "source": [
    "### 347.前 K 个高频元素\n",
    "给定一个非空的整数数组，返回其中出现频率前 k 高的元素。\n",
    "\n",
    "示例 1:\n",
    "\n",
    "输入: nums = [1,1,1,2,2,3], k = 2\n",
    "输出: [1,2]\n",
    "示例 2:\n",
    "\n",
    "输入: nums = [1], k = 1\n",
    "输出: [1]\n",
    "提示：\n",
    "\n",
    "你可以假设给定的 k 总是合理的，且 1 ≤ k ≤ 数组中不相同的元素的个数。\\\n",
    "你的算法的时间复杂度必须优于 $O(n \\log n)$ , n 是数组的大小。\\\n",
    "题目数据保证答案唯一，换句话说，数组中前 k 个高频元素的集合是唯一的。\\\n",
    "你可以按任意顺序返回答案。"
   ]
  },
  {
   "cell_type": "code",
   "execution_count": 110,
   "id": "3d7495fc",
   "metadata": {},
   "outputs": [],
   "source": [
    "# Test case\n",
    "nums = [1,1,1,2,2,3]\n",
    "k = 2"
   ]
  },
  {
   "cell_type": "code",
   "execution_count": 124,
   "id": "0e50ee1f",
   "metadata": {},
   "outputs": [
    {
     "data": {
      "text/plain": [
       "(2, 1)"
      ]
     },
     "execution_count": 124,
     "metadata": {},
     "output_type": "execute_result"
    }
   ],
   "source": [
    "# My solution (Not ideal)\n",
    "class Solution:\n",
    "    def topKelements(self, nums, k):\n",
    "        hashmap = {}\n",
    "        for i in nums:\n",
    "            if i in hashmap:\n",
    "                hashmap[i] += 1\n",
    "            else:\n",
    "                hashmap[i] = 1\n",
    "        result = sorted(zip(hashmap.values(),hashmap.keys()))\n",
    "        \n",
    "        # Need to unzip the results\n",
    "        result_unzipped = list(zip(*result))\n",
    "        return result_unzipped[1][-k:]\n",
    "\n",
    "                        \n",
    "solution = Solution()\n",
    "solution.topKelements(nums, k)\n"
   ]
  },
  {
   "cell_type": "code",
   "execution_count": 133,
   "id": "d96fe95f",
   "metadata": {},
   "outputs": [
    {
     "data": {
      "text/plain": [
       "[1, 2]"
      ]
     },
     "execution_count": 133,
     "metadata": {},
     "output_type": "execute_result"
    }
   ],
   "source": [
    "# Sample solution 用到Heap (堆)\n",
    "# 堆是一棵完全二叉树，树中每个结点的值都不小于（或不大于）其左右孩子的值。 如果父亲结点是大于等于左右孩子就是大顶堆，小于等于左右孩子就是小顶堆。\n",
    "\n",
    "#时间复杂度：O(nlogk)\n",
    "#空间复杂度：O(n)\n",
    "import heapq\n",
    "class Solution:\n",
    "    def topKFrequent(self, nums: list[int], k: int) -> list[int]:\n",
    "        #要统计元素出现频率\n",
    "        map_ = {} #nums[i]:对应出现的次数\n",
    "        for i in range(len(nums)):\n",
    "            map_[nums[i]] = map_.get(nums[i], 0) + 1\n",
    "        \n",
    "        #对频率排序\n",
    "        #定义一个小顶堆，大小为k\n",
    "        pri_que = [] #小顶堆\n",
    "        \n",
    "        #用固定大小为k的小顶堆，扫面所有频率的数值\n",
    "        for key, freq in map_.items():\n",
    "            heapq.heappush(pri_que, (freq, key))\n",
    "            if len(pri_que) > k: #如果堆的大小大于了K，则队列弹出，保证堆的大小一直为k\n",
    "                heapq.heappop(pri_que)\n",
    "        \n",
    "        #找出前K个高频元素，因为小顶堆先弹出的是最小的，所以倒序来输出到数组\n",
    "        result = [0] * k\n",
    "        for i in range(k-1, -1, -1):\n",
    "            result[i] = heapq.heappop(pri_que)[1]\n",
    "        return result\n",
    "    \n",
    "solution = Solution()\n",
    "solution.topKFrequent(nums, k)"
   ]
  },
  {
   "cell_type": "code",
   "execution_count": null,
   "id": "7a1d4e94",
   "metadata": {},
   "outputs": [],
   "source": []
  }
 ],
 "metadata": {
  "kernelspec": {
   "display_name": "Python 3 (ipykernel)",
   "language": "python",
   "name": "python3"
  },
  "language_info": {
   "codemirror_mode": {
    "name": "ipython",
    "version": 3
   },
   "file_extension": ".py",
   "mimetype": "text/x-python",
   "name": "python",
   "nbconvert_exporter": "python",
   "pygments_lexer": "ipython3",
   "version": "3.9.12"
  }
 },
 "nbformat": 4,
 "nbformat_minor": 5
}
