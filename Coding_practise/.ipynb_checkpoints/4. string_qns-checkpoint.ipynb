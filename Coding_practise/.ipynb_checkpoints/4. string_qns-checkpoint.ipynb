{
 "cells": [
  {
   "cell_type": "markdown",
   "id": "bc89339d",
   "metadata": {},
   "source": [
    "### Challenging questions:\n",
    "\n",
    "Round 1: 541, 剑指 Offer 05, 28"
   ]
  },
  {
   "cell_type": "code",
   "execution_count": 77,
   "id": "d8ee22ae",
   "metadata": {},
   "outputs": [
    {
     "name": "stdout",
     "output_type": "stream",
     "text": [
      "['o', 'l', 'l', 'e', 'h']\n"
     ]
    }
   ],
   "source": [
    "# Knowledge point\n",
    "\n",
    "# 1. 一定要记得这个function！非常非常的好用！他直接修改原来的list，不需要额外的内存！\n",
    "\n",
    "input_str1 = [\"h\",\"e\",\"l\",\"l\",\"o\"] \n",
    "\n",
    "def reverse_sub(lst:list)-> None:\n",
    "    left, right = 0, len(lst) - 1\n",
    "    while left < right:\n",
    "        lst[left], lst[right] = lst[right], lst[left]\n",
    "        left += 1\n",
    "        right -= 1\n",
    "        \n",
    "reverse_sub(input_str1)\n",
    "print(input_str1)\n",
    "\n",
    "# 2. Python string is immutable!!! 不能直接修改，必须先转换成一个list，再join起来，所以一定会使用额外的内存\n",
    "\n",
    "# 3. KMP 算法 （see 28)\n",
    "        "
   ]
  },
  {
   "cell_type": "markdown",
   "id": "cd7942c8",
   "metadata": {},
   "source": [
    "### 344.反转字符串\n",
    "\n",
    "编写一个函数，其作用是将输入的字符串反转过来。输入字符串以字符数组 char[] 的形式给出。\n",
    "\n",
    "不要给另外的数组分配额外的空间，你必须原地修改输入数组、使用 O(1) 的额外空间解决这一问题。\n",
    "\n",
    "你可以假设数组中的所有字符都是 ASCII 码表中的可打印字符。\n",
    "\n",
    "示例 1：\n",
    "输入：[\"h\",\"e\",\"l\",\"l\",\"o\"]\n",
    "输出：[\"o\",\"l\",\"l\",\"e\",\"h\"]\n",
    "\n",
    "示例 2：\n",
    "输入：[\"H\",\"a\",\"n\",\"n\",\"a\",\"h\"]\n",
    "输出：[\"h\",\"a\",\"n\",\"n\",\"a\",\"H\"]"
   ]
  },
  {
   "cell_type": "code",
   "execution_count": 8,
   "id": "92a4e90d",
   "metadata": {},
   "outputs": [],
   "source": [
    "# Test case\n",
    "input_str1 = [\"h\",\"e\",\"l\",\"l\",\"o\"] \n",
    "input_str2 = [\"H\",\"a\",\"n\",\"n\",\"a\",\"h\"] "
   ]
  },
  {
   "cell_type": "code",
   "execution_count": 10,
   "id": "a09584f9",
   "metadata": {},
   "outputs": [
    {
     "name": "stdout",
     "output_type": "stream",
     "text": [
      "['h', 'e', 'l', 'l', 'o']\n",
      "['H', 'a', 'n', 'n', 'a', 'h']\n"
     ]
    }
   ],
   "source": [
    "# Sample solution 双指针法again\n",
    "class Solution:\n",
    "    def reverseString(self, s: list[str]) -> None:\n",
    "        \"\"\"\n",
    "        Do not return anything, modify s in-place instead.\n",
    "        \"\"\"\n",
    "        left, right = 0, len(s) - 1\n",
    "        \n",
    "        # 该方法已经不需要判断奇偶数，经测试后时间空间复杂度比用 for i in range(right//2)更低\n",
    "        # 推荐该写法，更加通俗易懂\n",
    "        # 之所以不用判断奇偶数，是因为left < right的condition， 如果是偶数的话left不可能等于right， 如果是奇数的话，最后left = right\n",
    "        while left < right:\n",
    "            s[left], s[right] = s[right], s[left]\n",
    "            left += 1\n",
    "            right -= 1\n",
    "\n",
    "solution = Solution()\n",
    "solution.reverseString(input_str1)\n",
    "solution.reverseString(input_str2)\n",
    "print(input_str1)\n",
    "print(input_str2)"
   ]
  },
  {
   "cell_type": "markdown",
   "id": "64667f49",
   "metadata": {},
   "source": [
    "### 541. 反转字符串II\n",
    "\n",
    "给定一个字符串 s 和一个整数 k，从字符串开头算起, 每计数至 2k 个字符，就反转这 2k 个字符中的前 k 个字符。\n",
    "\n",
    "如果剩余字符少于 k 个，则将剩余字符全部反转。\n",
    "\n",
    "如果剩余字符小于 2k 但大于或等于 k 个，则反转前 k 个字符，其余字符保持原样。\n",
    "\n",
    "示例:\n",
    "\n",
    "输入: s = \"abcdefg\", k = 2\n",
    "输出: \"bacdfeg\"\n"
   ]
  },
  {
   "cell_type": "code",
   "execution_count": 12,
   "id": "526392f3",
   "metadata": {},
   "outputs": [],
   "source": [
    "# Test case\n",
    "s = \"abcdefg\"\n",
    "k = 2 \n",
    "# 字符串前2k(4)个字符，为“abcd\", 翻转前k(2)个字符为”bacd\", 剩余’efg‘3个字符(k<3<2k)，翻转前2个字符，为’feg‘\n",
    "# 所以输出: \"bacdfeg\""
   ]
  },
  {
   "cell_type": "code",
   "execution_count": 22,
   "id": "3b5ac387",
   "metadata": {},
   "outputs": [
    {
     "data": {
      "text/plain": [
       "'bacdfeg'"
      ]
     },
     "execution_count": 22,
     "metadata": {},
     "output_type": "execute_result"
    }
   ],
   "source": [
    "# Sample solution\n",
    "class Solution:\n",
    "    def reverseStr(self, s: str, k: int) -> str:\n",
    "        \"\"\"\n",
    "        1. 使用range(start, end, step)来确定需要调换的初始位置\n",
    "        2. 对于字符串s = 'abc'，如果使用s[0:999] ===> 'abc'。字符串末尾如果超过最大长度，则会返回至字符串最后一个值，这个特性可以避免一些边界条件的处理。\n",
    "        3. 用切片整体替换，而不是一个个替换.\n",
    "        \"\"\"\n",
    "        def reverse_substring(text):\n",
    "            left, right = 0, len(text) - 1\n",
    "            while left < right:\n",
    "                text[left], text[right] = text[right], text[left]\n",
    "                left += 1\n",
    "                right -= 1\n",
    "            return text\n",
    "        \n",
    "        # Convert the string to a list, as a string is immutable. 'abc' -> ['a','b','c']\n",
    "        res = list(s)\n",
    "\n",
    "        for cur in range(0, len(s), 2 * k): # Step of 2k\n",
    "            \n",
    "            # From cur to cur+k takes a step of k\n",
    "            res[cur: cur + k] = reverse_substring(res[cur: cur + k])\n",
    "        \n",
    "        return ''.join(res)\n",
    "    \n",
    "solution = Solution()\n",
    "solution.reverseStr(s,k)"
   ]
  },
  {
   "cell_type": "code",
   "execution_count": 71,
   "id": "ec192d11",
   "metadata": {},
   "outputs": [
    {
     "name": "stdout",
     "output_type": "stream",
     "text": [
      "abcdefg\n",
      "gfedcba\n",
      "edcba\n"
     ]
    }
   ],
   "source": [
    "# 字符串切片！\n",
    "a = 'abcdefg'\n",
    "print(a[:100])\n",
    "print(a[::-1]) # Reverse\n",
    "print(a[0:5][::-1]) # Slice 5 elements and reverse\n"
   ]
  },
  {
   "cell_type": "code",
   "execution_count": 29,
   "id": "ea7529e0",
   "metadata": {},
   "outputs": [],
   "source": [
    "# Sample solution 2 (Pretty cool)\n",
    "class Solution:\n",
    "    def reverseStr(self, s: str, k: int) -> str:\n",
    "        # Two pointers. Another is inside the loop.\n",
    "        p = 0\n",
    "        while p < len(s):\n",
    "            p2 = p + k\n",
    "            # Written in this could be more pythonic.\n",
    "            s = s[:p] + s[p: p2][::-1] + s[p2:]\n",
    "            p = p + 2 * k\n",
    "        return s"
   ]
  },
  {
   "cell_type": "markdown",
   "id": "f7f4119e",
   "metadata": {},
   "source": [
    "### 剑指 Offer 05. 替换空格\n",
    "\n",
    "请实现一个函数，把字符串 s 中的每个空格替换成\"%20\"。\n",
    "\n",
    "示例 1： 输入：s = \"We are happy.\"\n",
    "输出：\"We%20are%20happy.\""
   ]
  },
  {
   "cell_type": "code",
   "execution_count": 30,
   "id": "20407b3b",
   "metadata": {},
   "outputs": [],
   "source": [
    "# Test case\n",
    "s = 'We are happy.'"
   ]
  },
  {
   "cell_type": "code",
   "execution_count": 39,
   "id": "479bcaf0",
   "metadata": {},
   "outputs": [
    {
     "name": "stdout",
     "output_type": "stream",
     "text": [
      "We%20are%20happy.\n",
      "We%20are%20happy.\n",
      "We%20are%20happy.\n"
     ]
    }
   ],
   "source": [
    "# Method 1: Simple solution using .replace\n",
    "print(s.replace(' ','%20'))\n",
    "\n",
    "# Method 2: Regex\n",
    "import regex as re\n",
    "print(re.sub(' ','%20', s))\n",
    "\n",
    "# Method 3: Use .split and .join\n",
    "print(\"%20\".join(s.split(\" \")))"
   ]
  },
  {
   "cell_type": "code",
   "execution_count": 54,
   "id": "36f4ecf8",
   "metadata": {},
   "outputs": [
    {
     "name": "stdout",
     "output_type": "stream",
     "text": [
      "17\n"
     ]
    },
    {
     "data": {
      "text/plain": [
       "'We%20are%20happy.'"
      ]
     },
     "execution_count": 54,
     "metadata": {},
     "output_type": "execute_result"
    }
   ],
   "source": [
    "# Sample solution: 双指针Again\n",
    "\n",
    "class Solution:\n",
    "    def replaceSpace(self, s: str) -> str:\n",
    "        counter = s.count(' ')\n",
    "        \n",
    "        res = list(s)\n",
    "        # 每碰到一个空格就多拓展两个格子，1 + 2 = 3个位置存’%20‘\n",
    "        res.extend([' '] * counter * 2)\n",
    "        print(len(res))\n",
    "        \n",
    "        # 原始字符串的末尾，拓展后的末尾 (注意两个指针的位置)\n",
    "        left, right = len(s) - 1, len(res) - 1\n",
    "        \n",
    "        while left >= 0:\n",
    "            if res[left] != ' ':\n",
    "                res[right] = res[left]\n",
    "                right -= 1\n",
    "            else:\n",
    "                # [right - 2, right), 左闭右开\n",
    "                res[right - 2: right + 1] = '%20'\n",
    "                right -= 3\n",
    "            left -= 1\n",
    "        return ''.join(res)\n",
    "    \n",
    "solution = Solution()\n",
    "solution.replaceSpace(s)"
   ]
  },
  {
   "cell_type": "markdown",
   "id": "13c5b776",
   "metadata": {},
   "source": [
    "### 151.翻转字符串里的单词\n",
    "\n",
    "给定一个字符串，逐个翻转字符串中的每个单词。\n",
    "\n",
    "示例 1：\n",
    "输入: \"the sky is blue\"\n",
    "输出: \"blue is sky the\"\n",
    "\n",
    "示例 2：\n",
    "输入: \"  hello world!  \"\n",
    "输出: \"world! hello\"\n",
    "解释: 输入字符串可以在前面或者后面包含多余的空格，但是反转后的字符不能包括。\n",
    "\n",
    "示例 3：\n",
    "输入: \"a good   example\"\n",
    "输出: \"example good a\"\n",
    "解释: 如果两个单词间有多余的空格，将反转后单词间的空格减少到只含一个。\n",
    "\n"
   ]
  },
  {
   "cell_type": "code",
   "execution_count": 43,
   "id": "e1863743",
   "metadata": {},
   "outputs": [],
   "source": [
    "# Test case\n",
    "\n",
    "input_1 = \"the sky is blue\" \n",
    "input_2 = \" hello world! \"\n",
    "input_3 = \"a good  example\""
   ]
  },
  {
   "cell_type": "code",
   "execution_count": 66,
   "id": "316dafa5",
   "metadata": {},
   "outputs": [
    {
     "name": "stdout",
     "output_type": "stream",
     "text": [
      "blue is sky the\n",
      "world! hello\n",
      "example good a\n"
     ]
    }
   ],
   "source": [
    "# My solution\n",
    "class Solution:\n",
    "    def invertWord(self, input_word):\n",
    "        word_list = input_word.split(' ') # Seperate with blank space\n",
    "        \n",
    "        # Remove extra spaces\n",
    "        for i in word_list:\n",
    "            if i == '':\n",
    "                word_list.remove(i)\n",
    "                \n",
    "        left, right = 0, len(word_list) - 1\n",
    "        while left < right:\n",
    "            word_list[left], word_list[right] = word_list[right], word_list[left]\n",
    "            left += 1\n",
    "            right -= 1\n",
    "        return ' '.join(word_list)\n",
    "        \n",
    "solution = Solution()\n",
    "print(solution.invertWord(input_1))\n",
    "print(solution.invertWord(input_2))\n",
    "print(solution.invertWord(input_3))\n",
    "        \n",
    "        "
   ]
  },
  {
   "cell_type": "code",
   "execution_count": 68,
   "id": "8b7cf133",
   "metadata": {},
   "outputs": [],
   "source": [
    "# Sample solution\n",
    "\n",
    "class Solution:\n",
    "    def reverseWords(self, s: str) -> str:\n",
    "        # method 1 - Rude but work & efficient method.\n",
    "        s_list = [i for i in s.split(\" \") if len(i) > 0]\n",
    "        return \" \".join(s_list[::-1])\n",
    "\n",
    "        # method 2 - Carlo's idea\n",
    "        def trim_head_tail_space(ss: str):\n",
    "            p = 0\n",
    "            while p < len(ss) and ss[p] == \" \":\n",
    "                p += 1\n",
    "            return ss[p:]\n",
    "\n",
    "        # Trim the head and tail space\n",
    "        s = trim_head_tail_space(s)\n",
    "        s = trim_head_tail_space(s[::-1])[::-1]\n",
    "\n",
    "        pf, ps, s = 0, 0, s[::-1] # Reverse the string.\n",
    "        while pf < len(s):\n",
    "            if s[pf] == \" \":\n",
    "                # Will not excede. Because we have clean the tail space.\n",
    "                if s[pf] == s[pf + 1]:\n",
    "                    s = s[:pf] + s[pf + 1:]\n",
    "                    continue\n",
    "                else:\n",
    "                    s = s[:ps] + s[ps: pf][::-1] + s[pf:]\n",
    "                    ps, pf = pf + 1, pf + 2\n",
    "            else:\n",
    "                pf += 1\n",
    "        return s[:ps] + s[ps:][::-1] # Must do the last step, because the last word is omit though the pointers are on the correct positions,"
   ]
  },
  {
   "cell_type": "code",
   "execution_count": 69,
   "id": "0a476e23",
   "metadata": {},
   "outputs": [
    {
     "name": "stdout",
     "output_type": "stream",
     "text": [
      "blue is sky the\n",
      "world! hello\n",
      "example good a\n"
     ]
    }
   ],
   "source": [
    "solution = Solution()\n",
    "print(solution.reverseWords(input_1))\n",
    "print(solution.reverseWords(input_2))\n",
    "print(solution.reverseWords(input_3))"
   ]
  },
  {
   "cell_type": "markdown",
   "id": "c0f586dd",
   "metadata": {},
   "source": [
    "### 题目：剑指Offer58-II.左旋转字符串\n",
    "\n",
    "字符串的左旋转操作是把字符串前面的若干个字符转移到字符串的尾部。请定义一个函数实现字符串左旋转操作的功能。比如，输入字符串\"abcdefg\"和数字2，该函数将返回左旋转两位得到的结果\"cdefgab\"。\n",
    "\n",
    "示例 1：\n",
    "输入: s = \"abcdefg\", k = 2\n",
    "输出: \"cdefgab\"\n",
    "\n",
    "示例 2：\n",
    "输入: s = \"lrloseumgh\", k = 6\n",
    "输出: \"umghlrlose\"\n",
    "\n",
    "限制：\n",
    "1 <= k < s.length <= 10000"
   ]
  },
  {
   "cell_type": "code",
   "execution_count": 72,
   "id": "859aa924",
   "metadata": {},
   "outputs": [],
   "source": [
    "# Test case\n",
    "s = \"abcdefg\"\n",
    "k = 2"
   ]
  },
  {
   "cell_type": "code",
   "execution_count": 74,
   "id": "6f88c672",
   "metadata": {},
   "outputs": [
    {
     "name": "stdout",
     "output_type": "stream",
     "text": [
      "cdefgab\n",
      "umghlrlose\n"
     ]
    }
   ],
   "source": [
    "# Simple solution\n",
    "\n",
    "def lftrotate(s, k):\n",
    "    return s[k:] + s[:k]\n",
    "\n",
    "print(lftrotate(s, k))\n",
    "print(lftrotate(\"lrloseumgh\",6))"
   ]
  },
  {
   "cell_type": "code",
   "execution_count": null,
   "id": "ea679757",
   "metadata": {},
   "outputs": [],
   "source": [
    "# Sample answer (python的string为不可变，需要开辟同样大小的list空间来修改, 无法直接在原string上修改)\n",
    "class Solution:\n",
    "    def reverseLeftWords(self, s: str, n: int) -> str:\n",
    "        def reverse_sub(lst, left, right):\n",
    "            while left < right:\n",
    "                lst[left], lst[right] = lst[right], lst[left]\n",
    "                left += 1\n",
    "                right -= 1\n",
    "        \n",
    "        res = list(s)\n",
    "        end = len(res) - 1\n",
    "        reverse_sub(res, 0, n - 1)\n",
    "        reverse_sub(res, n, end)\n",
    "        reverse_sub(res, 0, end)\n",
    "        return ''.join(res)\n",
    "\n",
    "# 同方法二\n",
    "# 时间复杂度：O(n)\n",
    "# 空间复杂度：O(n)，python的string为不可变，需要开辟同样大小的list空间来修改   "
   ]
  },
  {
   "cell_type": "markdown",
   "id": "e9640522",
   "metadata": {},
   "source": [
    "### 28. 实现 strStr()\n",
    "\n",
    "实现 strStr() 函数。\n",
    "\n",
    "给定一个 haystack 字符串和一个 needle 字符串，在 haystack 字符串中找出 needle 字符串出现的第一个位置 (从0开始)。如果不存在，则返回  -1。\n",
    "\n",
    "示例 1: 输入: haystack = \"hello\", needle = \"ll\" 输出: 2\n",
    "\n",
    "示例 2: 输入: haystack = \"aaaaa\", needle = \"bba\" 输出: -1"
   ]
  },
  {
   "cell_type": "code",
   "execution_count": 15,
   "id": "15871b2b",
   "metadata": {},
   "outputs": [],
   "source": [
    "# Test case\n",
    "haystack = 'hello'\n",
    "needle = 'll'"
   ]
  },
  {
   "cell_type": "code",
   "execution_count": 21,
   "id": "20c36397",
   "metadata": {},
   "outputs": [
    {
     "name": "stdout",
     "output_type": "stream",
     "text": [
      "2\n",
      "-1\n"
     ]
    }
   ],
   "source": [
    "# My Solution (暴力算法)\n",
    "\n",
    "def strStr(haystack, needle):\n",
    "    len_needle = len(needle) # 求出needle的长度\n",
    "    i = 0 \n",
    "    # 当 i + len_needle 小于haystack的长度的时候，意味着没有完全check完\n",
    "    while i + len_needle <= len(haystack):\n",
    "        # 从haystack中切片出一个unit来作比较\n",
    "        unit = haystack[i:i + len_needle]\n",
    "        if unit == needle: #如果相等\n",
    "            return i # 返回index\n",
    "        i += 1\n",
    "    return -1\n",
    "    \n",
    "print(strStr(haystack, needle))\n",
    "print(strStr('aaaaa','bba'))"
   ]
  },
  {
   "cell_type": "code",
   "execution_count": 23,
   "id": "33e1a8c6",
   "metadata": {},
   "outputs": [
    {
     "name": "stdout",
     "output_type": "stream",
     "text": [
      "[-1, 0, -1, 0, 1]\n"
     ]
    },
    {
     "data": {
      "text/plain": [
       "2"
      ]
     },
     "execution_count": 23,
     "metadata": {},
     "output_type": "execute_result"
    }
   ],
   "source": [
    "# Sample solution KMP 算法 (比较复杂，没有完全理解代码)\n",
    "\n",
    "class Solution:\n",
    "    def strStr(self, haystack: str, needle: str) -> int:\n",
    "        a=len(needle)\n",
    "        b=len(haystack)\n",
    "        if a==0:\n",
    "            return 0\n",
    "        next=self.getnext(a,needle)\n",
    "        p=-1\n",
    "        for j in range(b):\n",
    "            while p>=0 and needle[p+1]!=haystack[j]:\n",
    "                p=next[p]\n",
    "            if needle[p+1]==haystack[j]:\n",
    "                p+=1\n",
    "            if p==a-1:\n",
    "                return j-a+1\n",
    "        return -1\n",
    "\n",
    "    # 生成前缀表\n",
    "    def getnext(self,a,needle):\n",
    "        next=['' for i in range(a)] # 建立新的前缀表\n",
    "        k=-1 \n",
    "        next[0]=k\n",
    "        for i in range(1,len(needle)):\n",
    "            while (k>-1 and needle[k+1]!=needle[i]):\n",
    "                k=next[k]\n",
    "            if needle[k+1]==needle[i]:\n",
    "                k+=1\n",
    "            next[i]=k\n",
    "        return next\n",
    "    \n",
    "print(getnext(len('aabaa'),'aabaa'))\n",
    "\n",
    "solution = Solution()\n",
    "solution.strStr(haystack, needle)"
   ]
  },
  {
   "cell_type": "markdown",
   "id": "dbb386df",
   "metadata": {},
   "source": [
    "### 459.重复的子字符串\n",
    "给定一个非空的字符串，判断它是否可以由它的一个子串重复多次构成。给定的字符串只含有小写英文字母，并且长度不超过10000。\n",
    "\n",
    "示例 1:\n",
    "输入: \"abab\"\n",
    "输出: True\n",
    "解释: 可由子字符串 \"ab\" 重复两次构成。\n",
    "\n",
    "示例 2:\n",
    "输入: \"aba\"\n",
    "输出: False"
   ]
  },
  {
   "cell_type": "code",
   "execution_count": 50,
   "id": "ace94956",
   "metadata": {},
   "outputs": [],
   "source": [
    "# Test case\n",
    "word = 'abcabcabc'"
   ]
  },
  {
   "cell_type": "code",
   "execution_count": 52,
   "id": "ea0b47aa",
   "metadata": {},
   "outputs": [
    {
     "name": "stdout",
     "output_type": "stream",
     "text": [
      "abc\n"
     ]
    },
    {
     "data": {
      "text/plain": [
       "True"
      ]
     },
     "execution_count": 52,
     "metadata": {},
     "output_type": "execute_result"
    }
   ],
   "source": [
    "# My solution\n",
    "\n",
    "class Solution:\n",
    "    def repeatedSubstring(self, word):\n",
    "\n",
    "        for i in range(1, len(word)+1):\n",
    "            # Slice a part of the word as a unit, minimum length = 1 thus 1<= i < len(word+1)\n",
    "            unit = word[:i]\n",
    "        \n",
    "            if len(word)%len(unit)==0:\n",
    "                \n",
    "                # If unit length == word length, thus there is no repeated sub-strings\n",
    "                if len(unit) == len(word):\n",
    "                    return False\n",
    "                \n",
    "                # Take the unit and multiple by the ratio, if it equals to the word, then we found the unit\n",
    "                elif unit*int(len(word)/len(unit)) == word:\n",
    "                    print(unit)\n",
    "                    return True\n",
    "        \n",
    "        return False\n",
    "    \n",
    "solution = Solution()\n",
    "solution.repeatedSubstring(word)"
   ]
  },
  {
   "cell_type": "code",
   "execution_count": 53,
   "id": "e34642d6",
   "metadata": {},
   "outputs": [
    {
     "data": {
      "text/plain": [
       "True"
      ]
     },
     "execution_count": 53,
     "metadata": {},
     "output_type": "execute_result"
    }
   ],
   "source": [
    "# Sample solution (Use KMP 算法，没有完全理解)\n",
    "\n",
    "class Solution:\n",
    "    def repeatedSubstringPattern(self, s: str) -> bool:  \n",
    "        if len(s) == 0:\n",
    "            return False\n",
    "        nxt = [0] * len(s)\n",
    "        self.getNext(nxt, s)\n",
    "        if nxt[-1] != 0 and len(s) % (len(s) - nxt[-1]) == 0:\n",
    "            return True\n",
    "        return False\n",
    "    \n",
    "    def getNext(self, nxt, s):\n",
    "        nxt[0] = 0\n",
    "        j = 0\n",
    "        for i in range(1, len(s)):\n",
    "            while j > 0 and s[i] != s[j]:\n",
    "                j = nxt[j - 1]\n",
    "            if s[i] == s[j]:\n",
    "                j += 1\n",
    "            nxt[i] = j\n",
    "        return nxt\n",
    "    \n",
    "solution = Solution()\n",
    "solution.repeatedSubstringPattern(word)"
   ]
  },
  {
   "cell_type": "code",
   "execution_count": null,
   "id": "a694e1d1",
   "metadata": {},
   "outputs": [],
   "source": []
  }
 ],
 "metadata": {
  "kernelspec": {
   "display_name": "Python 3 (ipykernel)",
   "language": "python",
   "name": "python3"
  },
  "language_info": {
   "codemirror_mode": {
    "name": "ipython",
    "version": 3
   },
   "file_extension": ".py",
   "mimetype": "text/x-python",
   "name": "python",
   "nbconvert_exporter": "python",
   "pygments_lexer": "ipython3",
   "version": "3.9.12"
  }
 },
 "nbformat": 4,
 "nbformat_minor": 5
}
